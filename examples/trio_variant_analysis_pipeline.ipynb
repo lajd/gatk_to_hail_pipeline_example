{
 "cells": [
  {
   "cell_type": "markdown",
   "metadata": {},
   "source": [
    "# Trio Variant Analysis Pipeline\n",
    "Extracting analysis-ready variants for a father/mother/child trio from the 1000 genomes dataset.\n"
   ]
  },
  {
   "cell_type": "code",
   "execution_count": 17,
   "metadata": {},
   "outputs": [],
   "source": [
    "import sys\n",
    "from os.path import join\n",
    "\n",
    "# Add the root of the repo to the current path\n",
    "sys.path.append('..')"
   ]
  },
  {
   "cell_type": "code",
   "execution_count": 18,
   "metadata": {},
   "outputs": [],
   "source": [
    "# Import Python helpers\n",
    "from src.gatk.curate_genotype_dataset import CurateGenotypeDataset\n",
    "from src.gatk.extract_sample_variants import ExtractGenomicVariants\n",
    "from src.hail.utils import vcf_path_to_mt, hl"
   ]
  },
  {
   "cell_type": "code",
   "execution_count": 19,
   "metadata": {},
   "outputs": [],
   "source": [
    "# Use inline plotting\n",
    "%matplotlib inline\n"
   ]
  },
  {
   "cell_type": "markdown",
   "metadata": {},
   "source": [
    "# Define variables for the pipeline\n",
    "### Reads\n",
    "Reads are obtained from the 1000 genomes FTP site for a trio of individuals (father/mother/child). For the example pipeline we restrict our analysis to chromosome 20 for each individual, although this can be easily adjusted by modifying the `intervals` variable of CurateGenotypeDataset.\n",
    "\n",
    "The trio define the cohort of samples we will use for this analysis.\n",
    "\n",
    "### Reference\n",
    "The B37 reference genome from the Broad Institute is used as the refererence genome, since the phase3 data of the 1kg project was aligned against GRCh37. See https://www.internationalgenome.org/data-portal/data-collection/phase-3 for details.\n",
    "\n",
    "\n",
    "### Known Sites for Variant Identification\n",
    "The known sites of variation are obtained from the Broad Institutes reference bundle for b37. Here we only use the DBSNP resource.\n",
    "\n",
    "### Known Sites VQSR\n",
    "The known sites of variation are obtained from the Broad Institutes reference bundle for b37, and are used for VQSR's training and test set. The resources chosen are the same used in the VariantRecalibrator example as in\n",
    "https://gatk.broadinstitute.org/hc/en-us/articles/360036510892-VariantRecalibrator.\n"
   ]
  },
  {
   "cell_type": "code",
   "execution_count": 20,
   "metadata": {},
   "outputs": [],
   "source": [
    "PHASE_3_1KG_ROOT_FTP = \"ftp://ftp.1000genomes.ebi.ac.uk/vol1/ftp/phase3/data\"\n",
    "\n",
    "\n",
    "# Reads for father/mother/child\n",
    "READS_BAM_URIS=[\n",
    "    # Father\n",
    "    join(PHASE_3_1KG_ROOT_FTP, \"HG00731/alignment/HG00731.chrom20.ILLUMINA.bwa.PUR.low_coverage.20130422.bam\"),\n",
    "    # Mother\n",
    "    join(PHASE_3_1KG_ROOT_FTP, \"HG00732/alignment/HG00732.chrom20.ILLUMINA.bwa.PUR.low_coverage.20130422.bam\"),\n",
    "    # Child\n",
    "    join(PHASE_3_1KG_ROOT_FTP, \"HG00733/alignment/HG00733.chrom20.ILLUMINA.bwa.PUR.low_coverage.20130415.bam\"),\n",
    "]\n",
    "\n",
    "# Reference genome\n",
    "REF_FA_GZ_URI = \"ftp://ftp.1000genomes.ebi.ac.uk/vol1/ftp/technical/reference/human_g1k_v37.fa\"\n",
    "\n",
    "# Known sites for variant extraction\n",
    "KNOWN_EXTRACTION_VCF_GZ_URIS = [\n",
    "    \"ftp://gsapubftp-anonymous@ftp.broadinstitute.org/bundle/b37/dbsnp_138.b37.vcf.gz\"\n",
    "]\n",
    "\n",
    "# Known sites for VQSR model\n",
    "KNOWN_SITES_VQSR_URIS = [\n",
    "    \"ftp://gsapubftp-anonymous@ftp.broadinstitute.org/bundle/b37/hapmap_3.3.b37.vcf.gz\",\n",
    "    \"ftp://gsapubftp-anonymous@ftp.broadinstitute.org/bundle/b37/1000G_omni2.5.b37.vcf.gz\",\n",
    "    \"ftp://gsapubftp-anonymous@ftp.broadinstitute.org/bundle/b37/1000G_phase1.snps.high_confidence.b37.vcf.gz\",\n",
    "    \"ftp://gsapubftp-anonymous@ftp.broadinstitute.org/bundle/b37/dbsnp_138.b37.vcf.gz\"\n",
    "]"
   ]
  },
  {
   "cell_type": "markdown",
   "metadata": {},
   "source": [
    "# Extract Genomic Variants\n",
    "\n",
    "Below we perform the following steps:\n",
    "    \n",
    "1. Download all data\n",
    "   1. Sample reads (i.e., a cohort of reads)\n",
    "   2. Known sites\n",
    "   3. Reference\n",
    "2. Perform data preprocessing\n",
    "   1. Filtering, sorting and indexing cohort reads\n",
    "   2. Creating indices for known sites\n",
    "   3. Creating an index for the reference\n",
    "3. Perform ReadsPipelineSpark for each sample, obtaining analysis-ready variants for each sample of the cohort\n"
   ]
  },
  {
   "cell_type": "code",
   "execution_count": 21,
   "metadata": {},
   "outputs": [
    {
     "name": "stderr",
     "output_type": "stream",
     "text": [
      "2022-05-26 00:26:35.357 | INFO     | src.gatk.base:download_uris:184 - Skipping download of URI ftp://ftp.1000genomes.ebi.ac.uk/vol1/ftp/phase3/data/HG00731/alignment/HG00731.chrom20.ILLUMINA.bwa.PUR.low_coverage.20130422.bam as file /data/Genomics/reads/human/HG00731.chrom20.ILLUMINA.bwa.PUR.low_coverage.20130422.bam already exists.\n",
      "2022-05-26 00:26:35.358 | INFO     | src.gatk.base:download_uris:184 - Skipping download of URI ftp://ftp.1000genomes.ebi.ac.uk/vol1/ftp/phase3/data/HG00732/alignment/HG00732.chrom20.ILLUMINA.bwa.PUR.low_coverage.20130422.bam as file /data/Genomics/reads/human/HG00732.chrom20.ILLUMINA.bwa.PUR.low_coverage.20130422.bam already exists.\n",
      "2022-05-26 00:26:35.358 | INFO     | src.gatk.base:download_uris:184 - Skipping download of URI ftp://ftp.1000genomes.ebi.ac.uk/vol1/ftp/phase3/data/HG00733/alignment/HG00733.chrom20.ILLUMINA.bwa.PUR.low_coverage.20130415.bam as file /data/Genomics/reads/human/HG00733.chrom20.ILLUMINA.bwa.PUR.low_coverage.20130415.bam already exists.\n",
      "2022-05-26 00:26:35.359 | INFO     | src.gatk.base:download_uris:184 - Skipping download of URI ftp://ftp.1000genomes.ebi.ac.uk/vol1/ftp/technical/reference/human_g1k_v37.fa as file /data/Genomics/reference/human/human_g1k_v37.fa already exists.\n",
      "2022-05-26 00:26:35.359 | INFO     | src.gatk.base:download_uris:184 - Skipping download of URI ftp://gsapubftp-anonymous@ftp.broadinstitute.org/bundle/b37/dbsnp_138.b37.vcf.gz as file /data/Genomics/known_sites/human/dbsnp_138.b37.vcf.gz already exists.\n",
      "2022-05-26 00:26:35.360 | INFO     | src.gatk.base:check_gunzip:84 - Decompressed file /data/Genomics/known_sites/human/dbsnp_138.b37.vcf already exists; skipping decompression.\n",
      "2022-05-26 00:26:35.360 | INFO     | src.gatk.base:_log_operation_header:62 - --------------------\n",
      "2022-05-26 00:26:35.361 | INFO     | src.gatk.base:_log_operation_header:63 - Stage: Indexing Reads BAM\n",
      "2022-05-26 00:26:35.361 | INFO     | src.gatk.base:_log_operation_header:64 - --------------------\n",
      "2022-05-26 00:26:35.362 | INFO     | src.gatk.base:_run_command_if_file_not_exists:46 - File /data/reads/human/HG00731.chrom20.ILLUMINA.bwa.PUR.low_coverage.20130422.bam.bai already exists; skipping creation.\n",
      "2022-05-26 00:26:35.363 | INFO     | src.gatk.base:_run_command_if_file_not_exists:46 - File /data/reads/human/HG00732.chrom20.ILLUMINA.bwa.PUR.low_coverage.20130422.bam.bai already exists; skipping creation.\n",
      "2022-05-26 00:26:35.363 | INFO     | src.gatk.base:_run_command_if_file_not_exists:46 - File /data/reads/human/HG00733.chrom20.ILLUMINA.bwa.PUR.low_coverage.20130415.bam.bai already exists; skipping creation.\n",
      "2022-05-26 00:26:35.364 | INFO     | src.gatk.base:_log_operation_header:62 - --------------------\n",
      "2022-05-26 00:26:35.364 | INFO     | src.gatk.base:_log_operation_header:63 - Stage: Filtering Unmapped Reads\n",
      "2022-05-26 00:26:35.365 | INFO     | src.gatk.base:_log_operation_header:64 - --------------------\n",
      "2022-05-26 00:26:35.365 | INFO     | src.gatk.base:_run_command_if_file_not_exists:46 - File /data/reads/human/HG00731.chrom20.ILLUMINA.bwa.PUR.low_coverage.20130422.paired.bam already exists; skipping creation.\n",
      "2022-05-26 00:26:35.366 | INFO     | src.gatk.base:_run_command_if_file_not_exists:46 - File /data/reads/human/HG00732.chrom20.ILLUMINA.bwa.PUR.low_coverage.20130422.paired.bam already exists; skipping creation.\n",
      "2022-05-26 00:26:35.366 | INFO     | src.gatk.base:_run_command_if_file_not_exists:46 - File /data/reads/human/HG00733.chrom20.ILLUMINA.bwa.PUR.low_coverage.20130415.paired.bam already exists; skipping creation.\n",
      "2022-05-26 00:26:35.367 | INFO     | src.gatk.base:_log_operation_header:62 - --------------------\n",
      "2022-05-26 00:26:35.367 | INFO     | src.gatk.base:_log_operation_header:63 - Stage: Sorting Reads\n",
      "2022-05-26 00:26:35.367 | INFO     | src.gatk.base:_log_operation_header:64 - --------------------\n",
      "2022-05-26 00:26:35.368 | INFO     | src.gatk.base:_run_command_if_file_not_exists:46 - File /data/reads/human/HG00731.chrom20.ILLUMINA.bwa.PUR.low_coverage.20130422.paired.sorted.bam already exists; skipping creation.\n",
      "2022-05-26 00:26:35.369 | INFO     | src.gatk.base:_run_command_if_file_not_exists:46 - File /data/reads/human/HG00732.chrom20.ILLUMINA.bwa.PUR.low_coverage.20130422.paired.sorted.bam already exists; skipping creation.\n",
      "2022-05-26 00:26:35.369 | INFO     | src.gatk.base:_run_command_if_file_not_exists:46 - File /data/reads/human/HG00733.chrom20.ILLUMINA.bwa.PUR.low_coverage.20130415.paired.sorted.bam already exists; skipping creation.\n",
      "2022-05-26 00:26:35.370 | INFO     | src.gatk.base:_log_operation_header:62 - --------------------\n",
      "2022-05-26 00:26:35.370 | INFO     | src.gatk.base:_log_operation_header:63 - Stage: Creating IndexFeatureFile for Known Sites\n",
      "2022-05-26 00:26:35.370 | INFO     | src.gatk.base:_log_operation_header:64 - --------------------\n",
      "2022-05-26 00:26:35.371 | INFO     | src.gatk.base:_run_command_if_file_not_exists:46 - File /data/known_sites/human/dbsnp_138.b37.vcf.idx already exists; skipping creation.\n",
      "2022-05-26 00:26:35.372 | INFO     | src.gatk.base:_log_operation_header:62 - --------------------\n",
      "2022-05-26 00:26:35.372 | INFO     | src.gatk.base:_log_operation_header:63 - Stage: Creating Reference SequenceDictionary\n",
      "2022-05-26 00:26:35.373 | INFO     | src.gatk.base:_log_operation_header:64 - --------------------\n",
      "2022-05-26 00:26:35.373 | INFO     | src.gatk.base:_run_command_if_file_not_exists:46 - File /data/reference/human/human_g1k_v37.dict already exists; skipping creation.\n",
      "2022-05-26 00:26:35.374 | INFO     | src.gatk.base:_log_operation_header:62 - --------------------\n",
      "2022-05-26 00:26:35.374 | INFO     | src.gatk.base:_log_operation_header:63 - Stage: Creating Reference Fasta Index\n",
      "2022-05-26 00:26:35.374 | INFO     | src.gatk.base:_log_operation_header:64 - --------------------\n",
      "2022-05-26 00:26:35.375 | INFO     | src.gatk.base:_run_command_if_file_not_exists:46 - File /data/reference/human/human_g1k_v37.fa.fai already exists; skipping creation.\n",
      "2022-05-26 00:26:35.376 | INFO     | src.gatk.base:_log_operation_header:62 - --------------------\n",
      "2022-05-26 00:26:35.376 | INFO     | src.gatk.base:_log_operation_header:63 - Stage: Creating Reference BWA MEM Index\n",
      "2022-05-26 00:26:35.377 | INFO     | src.gatk.base:_log_operation_header:64 - --------------------\n",
      "2022-05-26 00:26:35.377 | INFO     | src.gatk.base:_run_command_if_file_not_exists:46 - File /data/reference/human/human_g1k_v37.fa.img already exists; skipping creation.\n",
      "2022-05-26 00:26:35.378 | INFO     | src.gatk.base:_log_operation_header:62 - --------------------\n",
      "2022-05-26 00:26:35.378 | INFO     | src.gatk.base:_log_operation_header:63 - Stage: Creating sample GVCF\n",
      "2022-05-26 00:26:35.378 | INFO     | src.gatk.base:_log_operation_header:64 - --------------------\n",
      "2022-05-26 00:26:35.379 | INFO     | src.gatk.extract_sample_variants:create_sample_gvcf:253 - Running command: gatk ReadsPipelineSpark --input /data/reads/human/HG00731.chrom20.ILLUMINA.bwa.PUR.low_coverage.20130422.paired.sorted.bam --reference /data/reference/human/human_g1k_v37.fa --known-sites /data/known_sites/human/dbsnp_138.b37.vcf --output /data/sample_gvcfs/human/HG00731.g.vcf -align --conf 'spark.driver.memory=5g' --conf 'spark.executor.memory=8g' --remove-all-duplicates true --java-options -Xmx48g --native-pair-hmm-threads 16 --emit-ref-confidence GVCF\n",
      "2022-05-26 00:26:35.380 | INFO     | src.gatk.base:_run_command_if_file_not_exists:46 - File /data/sample_gvcfs/human/HG00731.g.vcf already exists; skipping creation.\n",
      "2022-05-26 00:26:35.380 | INFO     | src.gatk.base:_log_operation_header:62 - --------------------\n",
      "2022-05-26 00:26:35.380 | INFO     | src.gatk.base:_log_operation_header:63 - Stage: Creating sample GVCF\n",
      "2022-05-26 00:26:35.381 | INFO     | src.gatk.base:_log_operation_header:64 - --------------------\n",
      "2022-05-26 00:26:35.382 | INFO     | src.gatk.extract_sample_variants:create_sample_gvcf:253 - Running command: gatk ReadsPipelineSpark --input /data/reads/human/HG00732.chrom20.ILLUMINA.bwa.PUR.low_coverage.20130422.paired.sorted.bam --reference /data/reference/human/human_g1k_v37.fa --known-sites /data/known_sites/human/dbsnp_138.b37.vcf --output /data/sample_gvcfs/human/HG00732.g.vcf -align --conf 'spark.driver.memory=5g' --conf 'spark.executor.memory=8g' --remove-all-duplicates true --java-options -Xmx48g --native-pair-hmm-threads 16 --emit-ref-confidence GVCF\n"
     ]
    },
    {
     "name": "stderr",
     "output_type": "stream",
     "text": [
      "2022-05-26 00:26:35.382 | INFO     | src.gatk.base:_run_command_if_file_not_exists:46 - File /data/sample_gvcfs/human/HG00732.g.vcf already exists; skipping creation.\n",
      "2022-05-26 00:26:35.383 | INFO     | src.gatk.base:_log_operation_header:62 - --------------------\n",
      "2022-05-26 00:26:35.383 | INFO     | src.gatk.base:_log_operation_header:63 - Stage: Creating sample GVCF\n",
      "2022-05-26 00:26:35.383 | INFO     | src.gatk.base:_log_operation_header:64 - --------------------\n",
      "2022-05-26 00:26:35.384 | INFO     | src.gatk.extract_sample_variants:create_sample_gvcf:253 - Running command: gatk ReadsPipelineSpark --input /data/reads/human/HG00733.chrom20.ILLUMINA.bwa.PUR.low_coverage.20130415.paired.sorted.bam --reference /data/reference/human/human_g1k_v37.fa --known-sites /data/known_sites/human/dbsnp_138.b37.vcf --output /data/sample_gvcfs/human/HG00733.g.vcf -align --conf 'spark.driver.memory=5g' --conf 'spark.executor.memory=8g' --remove-all-duplicates true --java-options -Xmx48g --native-pair-hmm-threads 16 --emit-ref-confidence GVCF\n",
      "2022-05-26 00:26:35.384 | INFO     | src.gatk.base:_run_command_if_file_not_exists:46 - File /data/sample_gvcfs/human/HG00733.g.vcf already exists; skipping creation.\n"
     ]
    }
   ],
   "source": [
    "variant_discovery = ExtractGenomicVariants(\n",
    "    volume_hostpath='/data/Genomics',\n",
    "    paired_reads_file_bam_uris=READS_BAM_URIS,\n",
    "    ref_file_fasta_uri=REF_FA_GZ_URI,\n",
    "    known_sites_vcf_uris=KNOWN_EXTRACTION_VCF_GZ_URIS,\n",
    "    dry_run=False,\n",
    "    spark_driver_memory= '5g',\n",
    "    spark_executor_memory= '8g',\n",
    "    java_options= '-Xmx48g',\n",
    ")\n",
    "\n",
    "# Run the pipeline to obtain the GVCF path for each sample\n",
    "sample_gvcf_paths = variant_discovery.run_pipeline()\n"
   ]
  },
  {
   "cell_type": "markdown",
   "metadata": {},
   "source": [
    "# Curate Genotype Dataset\n",
    "\n",
    "Below we perform the following steps:\n",
    "\n",
    "4. Combine cohort samples into a GenomicsDB\n",
    "5. Perform joint genotyping on the cohort with HaplotypeCaller\n",
    "6. Fit/applies a variant recalibration model to obtain variant quality scores\n",
    "7. Applies VQSR to filter low quality variants"
   ]
  },
  {
   "cell_type": "code",
   "execution_count": 22,
   "metadata": {},
   "outputs": [
    {
     "name": "stderr",
     "output_type": "stream",
     "text": [
      "2022-05-26 00:27:12.521 | INFO     | src.gatk.base:_log_operation_header:62 - --------------------\n",
      "2022-05-26 00:27:12.522 | INFO     | src.gatk.base:_log_operation_header:63 - Stage: Creating IndexFeatureFile for Known Sites\n",
      "2022-05-26 00:27:12.522 | INFO     | src.gatk.base:_log_operation_header:64 - --------------------\n",
      "2022-05-26 00:27:12.524 | INFO     | src.gatk.base:_run_command_if_file_not_exists:46 - File /data/sample_gvcfs/human/HG00731.g.vcf.idx already exists; skipping creation.\n",
      "2022-05-26 00:27:12.525 | INFO     | src.gatk.base:_run_command_if_file_not_exists:46 - File /data/sample_gvcfs/human/HG00732.g.vcf.idx already exists; skipping creation.\n",
      "2022-05-26 00:27:12.526 | INFO     | src.gatk.base:_run_command_if_file_not_exists:46 - File /data/sample_gvcfs/human/HG00733.g.vcf.idx already exists; skipping creation.\n",
      "2022-05-26 00:27:12.527 | INFO     | src.gatk.base:download_uris:184 - Skipping download of URI ftp://gsapubftp-anonymous@ftp.broadinstitute.org/bundle/b37/hapmap_3.3.b37.vcf.gz as file /data/Genomics/known_sites/human/hapmap_3.3.b37.vcf.gz already exists.\n",
      "2022-05-26 00:27:12.527 | INFO     | src.gatk.base:check_gunzip:84 - Decompressed file /data/Genomics/known_sites/human/hapmap_3.3.b37.vcf already exists; skipping decompression.\n",
      "2022-05-26 00:27:12.528 | INFO     | src.gatk.base:download_uris:184 - Skipping download of URI ftp://gsapubftp-anonymous@ftp.broadinstitute.org/bundle/b37/1000G_omni2.5.b37.vcf.gz as file /data/Genomics/known_sites/human/1000G_omni2.5.b37.vcf.gz already exists.\n",
      "2022-05-26 00:27:12.528 | INFO     | src.gatk.base:check_gunzip:84 - Decompressed file /data/Genomics/known_sites/human/1000G_omni2.5.b37.vcf already exists; skipping decompression.\n",
      "2022-05-26 00:27:12.529 | INFO     | src.gatk.base:download_uris:184 - Skipping download of URI ftp://gsapubftp-anonymous@ftp.broadinstitute.org/bundle/b37/1000G_phase1.snps.high_confidence.b37.vcf.gz as file /data/Genomics/known_sites/human/1000G_phase1.snps.high_confidence.b37.vcf.gz already exists.\n",
      "2022-05-26 00:27:12.529 | INFO     | src.gatk.base:check_gunzip:84 - Decompressed file /data/Genomics/known_sites/human/1000G_phase1.snps.high_confidence.b37.vcf already exists; skipping decompression.\n",
      "2022-05-26 00:27:12.529 | INFO     | src.gatk.base:download_uris:184 - Skipping download of URI ftp://gsapubftp-anonymous@ftp.broadinstitute.org/bundle/b37/dbsnp_138.b37.vcf.gz as file /data/Genomics/known_sites/human/dbsnp_138.b37.vcf.gz already exists.\n",
      "2022-05-26 00:27:12.530 | INFO     | src.gatk.base:check_gunzip:84 - Decompressed file /data/Genomics/known_sites/human/dbsnp_138.b37.vcf already exists; skipping decompression.\n",
      "2022-05-26 00:27:12.530 | INFO     | src.gatk.base:_run_command_if_file_not_exists:46 - File /data/curated_gvcfs/human/gvcf_sample_HG00731_HG00732_HG00733__n_gvcfs_3__intervals_20__annotations_QD_MQ_MQRankSum_ReadPosRankSum_FS_SOR.gendb already exists; skipping creation.\n",
      "2022-05-26 00:27:12.531 | INFO     | src.gatk.base:_run_command_if_file_not_exists:46 - File /data/curated_gvcfs/human/gvcf_sample_HG00731_HG00732_HG00733__n_gvcfs_3__intervals_20__annotations_QD_MQ_MQRankSum_ReadPosRankSum_FS_SOR.genotyped.g.vcf already exists; skipping creation.\n",
      "2022-05-26 00:27:12.531 | INFO     | src.gatk.base:_run_command_if_file_not_exists:46 - File /data/vqsr/human/gvcf_sample_HG00731_HG00732_HG00733__n_gvcfs_3__intervals_20__annotations_QD_MQ_MQRankSum_ReadPosRankSum_FS_SOR.tranches already exists; skipping creation.\n",
      "2022-05-26 00:27:12.532 | INFO     | src.gatk.base:_run_command_if_file_not_exists:46 - File /data/curated_gvcfs/human/gvcf_sample_HG00731_HG00732_HG00733__n_gvcfs_3__intervals_20__annotations_QD_MQ_MQRankSum_ReadPosRankSum_FS_SOR.filtered_variants.g.vcf already exists; skipping creation.\n"
     ]
    },
    {
     "name": "stdout",
     "output_type": "stream",
     "text": [
      "/data/Genomics/known_sites/human\n"
     ]
    }
   ],
   "source": [
    "curated_genotyped_dataset = CurateGenotypeDataset(\n",
    "    volume_hostpath='/data/Genomics',\n",
    "    intervals=['20'],\n",
    "    gvcf_paths=sample_gvcf_paths,\n",
    "    annotations=[\n",
    "        \"QD\",\n",
    "        \"MQ\",\n",
    "        \"MQRankSum\",\n",
    "        \"ReadPosRankSum\",\n",
    "        \"FS\",\n",
    "        \"SOR\"\n",
    "    ],\n",
    "    known_sites_vqsr=KNOWN_SITES_VQSR_URIS,\n",
    "    resources=[\n",
    "        ('hapmap,known=false,training=true,truth=true,prior=15.0', 'hapmap_3.3.b37.vcf'),\n",
    "        ('omni,known=false,training=true,truth=false,prior=12.0', '1000G_omni2.5.b37.vcf'),\n",
    "        ('1000G,known=false,training=true,truth=false,prior=10.0', '1000G_phase1.snps.high_confidence.b37.vcf'),\n",
    "        ('dbsnp,known=true,training=false,truth=false,prior=2.0', 'dbsnp_138.b37.vcf'),\n",
    "    ],\n",
    "    reference_path=variant_discovery.raw_data_container_paths_map[ExtractGenomicVariants.REFERENCE_DIR],\n",
    "    dry_run=False\n",
    ")\n",
    "\n",
    "\n",
    "# Combine sample GVCFs and extract filtered variants for analysis\n",
    "filtered_vcf_save_path = curated_genotyped_dataset.run_pipeline()\n"
   ]
  },
  {
   "cell_type": "code",
   "execution_count": 7,
   "metadata": {},
   "outputs": [
    {
     "name": "stderr",
     "output_type": "stream",
     "text": [
      "Initializing Hail with default parameters...\n",
      "WARNING: An illegal reflective access operation has occurred\n",
      "WARNING: Illegal reflective access by org.apache.spark.unsafe.Platform (file:/home/jon/Software/anaconda3/envs/gatk_to_hail_pipeline_example/lib/python3.7/site-packages/pyspark/jars/spark-unsafe_2.12-3.1.3.jar) to constructor java.nio.DirectByteBuffer(long,int)\n",
      "WARNING: Please consider reporting this to the maintainers of org.apache.spark.unsafe.Platform\n",
      "WARNING: Use --illegal-access=warn to enable warnings of further illegal reflective access operations\n",
      "WARNING: All illegal access operations will be denied in a future release\n"
     ]
    },
    {
     "name": "stdout",
     "output_type": "stream",
     "text": [
      "2022-05-25 23:41:53 WARN  NativeCodeLoader:60 - Unable to load native-hadoop library for your platform... using builtin-java classes where applicable\n"
     ]
    },
    {
     "name": "stderr",
     "output_type": "stream",
     "text": [
      "Setting default log level to \"WARN\".\n",
      "To adjust logging level use sc.setLogLevel(newLevel). For SparkR, use setLogLevel(newLevel).\n"
     ]
    },
    {
     "name": "stdout",
     "output_type": "stream",
     "text": [
      "2022-05-25 23:41:53 WARN  Hail:43 - This Hail JAR was compiled for Spark 3.1.2, running with Spark 3.1.3.\n",
      "  Compatibility is not guaranteed.\n",
      "2022-05-25 23:41:53 WARN  Utils:69 - Service 'SparkUI' could not bind on port 4040. Attempting port 4041.\n"
     ]
    },
    {
     "name": "stderr",
     "output_type": "stream",
     "text": [
      "Running on Apache Spark version 3.1.3\n",
      "SparkUI available at http://metamorphesis:4041\n",
      "Welcome to\n",
      "     __  __     <>__\n",
      "    / /_/ /__  __/ /\n",
      "   / __  / _ `/ / /\n",
      "  /_/ /_/\\_,_/_/_/   version 0.2.95-513139587f57\n",
      "LOGGING: writing to /home/jon/PycharmProjects/reads-to-analysis-ready-variants/examples/hail-20220525-2341-0.2.95-513139587f57.log\n"
     ]
    }
   ],
   "source": [
    "mt = vcf_path_to_mt(filtered_vcf_save_path)"
   ]
  },
  {
   "cell_type": "markdown",
   "metadata": {},
   "source": [
    "# Show the Genotype variant call data \n",
    "\n",
    "Notation:\n",
    "- Reference is alleles[0]\n",
    "- Variant is alleles[1]\n",
    "- 0/0 : homozygous reference or aa\n",
    "- 0/1 : heterozygous or Aa\n",
    "- 1/1 : homozygous alternate or AA\n"
   ]
  },
  {
   "cell_type": "code",
   "execution_count": 8,
   "metadata": {},
   "outputs": [
    {
     "data": {
      "text/html": [
       "<table><thead><tr><td style=\"white-space: nowrap; max-width: 500px; overflow: hidden; text-overflow: ellipsis; \" colspan=\"1\"><div style=\"text-align: left;\"></div></td><td style=\"white-space: nowrap; max-width: 500px; overflow: hidden; text-overflow: ellipsis; \" colspan=\"1\"><div style=\"text-align: left;\"></div></td><td style=\"white-space: nowrap; max-width: 500px; overflow: hidden; text-overflow: ellipsis; \" colspan=\"1\"><div style=\"text-align: left;\"></div></td><td style=\"white-space: nowrap; max-width: 500px; overflow: hidden; text-overflow: ellipsis; \" colspan=\"1\"><div style=\"text-align: left;\"></div></td><td style=\"white-space: nowrap; max-width: 500px; overflow: hidden; text-overflow: ellipsis; \" colspan=\"1\"><div style=\"text-align: left;\"></div></td></tr><tr><td style=\"white-space: nowrap; max-width: 500px; overflow: hidden; text-overflow: ellipsis; \" colspan=\"1\"><div style=\"text-align: left;\"></div></td><td style=\"white-space: nowrap; max-width: 500px; overflow: hidden; text-overflow: ellipsis; \" colspan=\"1\"><div style=\"text-align: left;\"></div></td><td style=\"white-space: nowrap; max-width: 500px; overflow: hidden; text-overflow: ellipsis; \" colspan=\"1\"><div style=\"text-align: left;border-bottom: solid 2px #000; padding-bottom: 5px\">'HG00731'</div></td><td style=\"white-space: nowrap; max-width: 500px; overflow: hidden; text-overflow: ellipsis; \" colspan=\"1\"><div style=\"text-align: left;border-bottom: solid 2px #000; padding-bottom: 5px\">'HG00732'</div></td><td style=\"white-space: nowrap; max-width: 500px; overflow: hidden; text-overflow: ellipsis; \" colspan=\"1\"><div style=\"text-align: left;border-bottom: solid 2px #000; padding-bottom: 5px\">'HG00733'</div></td></tr><tr><td style=\"white-space: nowrap; max-width: 500px; overflow: hidden; text-overflow: ellipsis; \" colspan=\"1\"><div style=\"text-align: left;border-bottom: solid 2px #000; padding-bottom: 5px\">locus</div></td><td style=\"white-space: nowrap; max-width: 500px; overflow: hidden; text-overflow: ellipsis; \" colspan=\"1\"><div style=\"text-align: left;border-bottom: solid 2px #000; padding-bottom: 5px\">alleles</div></td><td style=\"white-space: nowrap; max-width: 500px; overflow: hidden; text-overflow: ellipsis; \" colspan=\"1\"><div style=\"text-align: left;border-bottom: solid 2px #000; padding-bottom: 5px\">GT</div></td><td style=\"white-space: nowrap; max-width: 500px; overflow: hidden; text-overflow: ellipsis; \" colspan=\"1\"><div style=\"text-align: left;border-bottom: solid 2px #000; padding-bottom: 5px\">GT</div></td><td style=\"white-space: nowrap; max-width: 500px; overflow: hidden; text-overflow: ellipsis; \" colspan=\"1\"><div style=\"text-align: left;border-bottom: solid 2px #000; padding-bottom: 5px\">GT</div></td></tr><tr><td style=\"white-space: nowrap; max-width: 500px; overflow: hidden; text-overflow: ellipsis; text-align: left;\">locus&lt;GRCh37&gt;</td><td style=\"white-space: nowrap; max-width: 500px; overflow: hidden; text-overflow: ellipsis; text-align: left;\">array&lt;str&gt;</td><td style=\"white-space: nowrap; max-width: 500px; overflow: hidden; text-overflow: ellipsis; text-align: left;\">call</td><td style=\"white-space: nowrap; max-width: 500px; overflow: hidden; text-overflow: ellipsis; text-align: left;\">call</td><td style=\"white-space: nowrap; max-width: 500px; overflow: hidden; text-overflow: ellipsis; text-align: left;\">call</td></tr>\n",
       "</thead><tbody><tr><td style=\"white-space: nowrap; max-width: 500px; overflow: hidden; text-overflow: ellipsis; \">20:65900</td><td style=\"white-space: nowrap; max-width: 500px; overflow: hidden; text-overflow: ellipsis; \">[&quot;G&quot;,&quot;A&quot;]</td><td style=\"white-space: nowrap; max-width: 500px; overflow: hidden; text-overflow: ellipsis; \">1/1</td><td style=\"white-space: nowrap; max-width: 500px; overflow: hidden; text-overflow: ellipsis; \">1/1</td><td style=\"white-space: nowrap; max-width: 500px; overflow: hidden; text-overflow: ellipsis; \">1/1</td></tr>\n",
       "<tr><td style=\"white-space: nowrap; max-width: 500px; overflow: hidden; text-overflow: ellipsis; \">20:66370</td><td style=\"white-space: nowrap; max-width: 500px; overflow: hidden; text-overflow: ellipsis; \">[&quot;G&quot;,&quot;A&quot;]</td><td style=\"white-space: nowrap; max-width: 500px; overflow: hidden; text-overflow: ellipsis; \">1/1</td><td style=\"white-space: nowrap; max-width: 500px; overflow: hidden; text-overflow: ellipsis; \">1/1</td><td style=\"white-space: nowrap; max-width: 500px; overflow: hidden; text-overflow: ellipsis; \">1/1</td></tr>\n",
       "<tr><td style=\"white-space: nowrap; max-width: 500px; overflow: hidden; text-overflow: ellipsis; \">20:67500</td><td style=\"white-space: nowrap; max-width: 500px; overflow: hidden; text-overflow: ellipsis; \">[&quot;T&quot;,&quot;TTGGTATCTAG&quot;]</td><td style=\"white-space: nowrap; max-width: 500px; overflow: hidden; text-overflow: ellipsis; \">1/1</td><td style=\"white-space: nowrap; max-width: 500px; overflow: hidden; text-overflow: ellipsis; \">1/1</td><td style=\"white-space: nowrap; max-width: 500px; overflow: hidden; text-overflow: ellipsis; \">1/1</td></tr>\n",
       "<tr><td style=\"white-space: nowrap; max-width: 500px; overflow: hidden; text-overflow: ellipsis; \">20:68749</td><td style=\"white-space: nowrap; max-width: 500px; overflow: hidden; text-overflow: ellipsis; \">[&quot;T&quot;,&quot;C&quot;]</td><td style=\"white-space: nowrap; max-width: 500px; overflow: hidden; text-overflow: ellipsis; \">0/1</td><td style=\"white-space: nowrap; max-width: 500px; overflow: hidden; text-overflow: ellipsis; \">0/1</td><td style=\"white-space: nowrap; max-width: 500px; overflow: hidden; text-overflow: ellipsis; \">1/1</td></tr>\n",
       "<tr><td style=\"white-space: nowrap; max-width: 500px; overflow: hidden; text-overflow: ellipsis; \">20:69094</td><td style=\"white-space: nowrap; max-width: 500px; overflow: hidden; text-overflow: ellipsis; \">[&quot;G&quot;,&quot;A&quot;]</td><td style=\"white-space: nowrap; max-width: 500px; overflow: hidden; text-overflow: ellipsis; \">0/1</td><td style=\"white-space: nowrap; max-width: 500px; overflow: hidden; text-overflow: ellipsis; \">0/1</td><td style=\"white-space: nowrap; max-width: 500px; overflow: hidden; text-overflow: ellipsis; \">0/1</td></tr>\n",
       "<tr><td style=\"white-space: nowrap; max-width: 500px; overflow: hidden; text-overflow: ellipsis; \">20:69481</td><td style=\"white-space: nowrap; max-width: 500px; overflow: hidden; text-overflow: ellipsis; \">[&quot;CT&quot;,&quot;C&quot;]</td><td style=\"white-space: nowrap; max-width: 500px; overflow: hidden; text-overflow: ellipsis; \">0/0</td><td style=\"white-space: nowrap; max-width: 500px; overflow: hidden; text-overflow: ellipsis; \">0/1</td><td style=\"white-space: nowrap; max-width: 500px; overflow: hidden; text-overflow: ellipsis; \">0/0</td></tr>\n",
       "<tr><td style=\"white-space: nowrap; max-width: 500px; overflow: hidden; text-overflow: ellipsis; \">20:69506</td><td style=\"white-space: nowrap; max-width: 500px; overflow: hidden; text-overflow: ellipsis; \">[&quot;G&quot;,&quot;GACACAC&quot;,&quot;GACAC&quot;]</td><td style=\"white-space: nowrap; max-width: 500px; overflow: hidden; text-overflow: ellipsis; \">0/1</td><td style=\"white-space: nowrap; max-width: 500px; overflow: hidden; text-overflow: ellipsis; \">1/2</td><td style=\"white-space: nowrap; max-width: 500px; overflow: hidden; text-overflow: ellipsis; \">0/1</td></tr>\n",
       "<tr><td style=\"white-space: nowrap; max-width: 500px; overflow: hidden; text-overflow: ellipsis; \">20:72104</td><td style=\"white-space: nowrap; max-width: 500px; overflow: hidden; text-overflow: ellipsis; \">[&quot;TA&quot;,&quot;T&quot;]</td><td style=\"white-space: nowrap; max-width: 500px; overflow: hidden; text-overflow: ellipsis; \">0/0</td><td style=\"white-space: nowrap; max-width: 500px; overflow: hidden; text-overflow: ellipsis; \">0/1</td><td style=\"white-space: nowrap; max-width: 500px; overflow: hidden; text-overflow: ellipsis; \">0/0</td></tr>\n",
       "<tr><td style=\"white-space: nowrap; max-width: 500px; overflow: hidden; text-overflow: ellipsis; \">20:74347</td><td style=\"white-space: nowrap; max-width: 500px; overflow: hidden; text-overflow: ellipsis; \">[&quot;G&quot;,&quot;A&quot;]</td><td style=\"white-space: nowrap; max-width: 500px; overflow: hidden; text-overflow: ellipsis; \">0/1</td><td style=\"white-space: nowrap; max-width: 500px; overflow: hidden; text-overflow: ellipsis; \">0/0</td><td style=\"white-space: nowrap; max-width: 500px; overflow: hidden; text-overflow: ellipsis; \">0/0</td></tr>\n",
       "<tr><td style=\"white-space: nowrap; max-width: 500px; overflow: hidden; text-overflow: ellipsis; \">20:74729</td><td style=\"white-space: nowrap; max-width: 500px; overflow: hidden; text-overflow: ellipsis; \">[&quot;G&quot;,&quot;GT&quot;]</td><td style=\"white-space: nowrap; max-width: 500px; overflow: hidden; text-overflow: ellipsis; \">0/0</td><td style=\"white-space: nowrap; max-width: 500px; overflow: hidden; text-overflow: ellipsis; \">0/1</td><td style=\"white-space: nowrap; max-width: 500px; overflow: hidden; text-overflow: ellipsis; \">0/0</td></tr>\n",
       "<tr><td style=\"white-space: nowrap; max-width: 500px; overflow: hidden; text-overflow: ellipsis; \">20:75254</td><td style=\"white-space: nowrap; max-width: 500px; overflow: hidden; text-overflow: ellipsis; \">[&quot;C&quot;,&quot;A&quot;]</td><td style=\"white-space: nowrap; max-width: 500px; overflow: hidden; text-overflow: ellipsis; \">0/0</td><td style=\"white-space: nowrap; max-width: 500px; overflow: hidden; text-overflow: ellipsis; \">0/1</td><td style=\"white-space: nowrap; max-width: 500px; overflow: hidden; text-overflow: ellipsis; \">0/0</td></tr>\n",
       "<tr><td style=\"white-space: nowrap; max-width: 500px; overflow: hidden; text-overflow: ellipsis; \">20:76962</td><td style=\"white-space: nowrap; max-width: 500px; overflow: hidden; text-overflow: ellipsis; \">[&quot;T&quot;,&quot;C&quot;]</td><td style=\"white-space: nowrap; max-width: 500px; overflow: hidden; text-overflow: ellipsis; \">0/1</td><td style=\"white-space: nowrap; max-width: 500px; overflow: hidden; text-overflow: ellipsis; \">0/1</td><td style=\"white-space: nowrap; max-width: 500px; overflow: hidden; text-overflow: ellipsis; \">0/0</td></tr>\n",
       "<tr><td style=\"white-space: nowrap; max-width: 500px; overflow: hidden; text-overflow: ellipsis; \">20:77816</td><td style=\"white-space: nowrap; max-width: 500px; overflow: hidden; text-overflow: ellipsis; \">[&quot;G&quot;,&quot;A&quot;]</td><td style=\"white-space: nowrap; max-width: 500px; overflow: hidden; text-overflow: ellipsis; \">0/1</td><td style=\"white-space: nowrap; max-width: 500px; overflow: hidden; text-overflow: ellipsis; \">0/0</td><td style=\"white-space: nowrap; max-width: 500px; overflow: hidden; text-overflow: ellipsis; \">0/0</td></tr>\n",
       "<tr><td style=\"white-space: nowrap; max-width: 500px; overflow: hidden; text-overflow: ellipsis; \">20:77965</td><td style=\"white-space: nowrap; max-width: 500px; overflow: hidden; text-overflow: ellipsis; \">[&quot;G&quot;,&quot;GT&quot;,&quot;GTT&quot;]</td><td style=\"white-space: nowrap; max-width: 500px; overflow: hidden; text-overflow: ellipsis; \">0/1</td><td style=\"white-space: nowrap; max-width: 500px; overflow: hidden; text-overflow: ellipsis; \">0/2</td><td style=\"white-space: nowrap; max-width: 500px; overflow: hidden; text-overflow: ellipsis; \">0/0</td></tr>\n",
       "<tr><td style=\"white-space: nowrap; max-width: 500px; overflow: hidden; text-overflow: ellipsis; \">20:79234</td><td style=\"white-space: nowrap; max-width: 500px; overflow: hidden; text-overflow: ellipsis; \">[&quot;T&quot;,&quot;C&quot;]</td><td style=\"white-space: nowrap; max-width: 500px; overflow: hidden; text-overflow: ellipsis; \">0/0</td><td style=\"white-space: nowrap; max-width: 500px; overflow: hidden; text-overflow: ellipsis; \">0|1</td><td style=\"white-space: nowrap; max-width: 500px; overflow: hidden; text-overflow: ellipsis; \">0/0</td></tr>\n",
       "<tr><td style=\"white-space: nowrap; max-width: 500px; overflow: hidden; text-overflow: ellipsis; \">20:80071</td><td style=\"white-space: nowrap; max-width: 500px; overflow: hidden; text-overflow: ellipsis; \">[&quot;G&quot;,&quot;A&quot;]</td><td style=\"white-space: nowrap; max-width: 500px; overflow: hidden; text-overflow: ellipsis; \">0/0</td><td style=\"white-space: nowrap; max-width: 500px; overflow: hidden; text-overflow: ellipsis; \">0/1</td><td style=\"white-space: nowrap; max-width: 500px; overflow: hidden; text-overflow: ellipsis; \">0/0</td></tr>\n",
       "<tr><td style=\"white-space: nowrap; max-width: 500px; overflow: hidden; text-overflow: ellipsis; \">20:80655</td><td style=\"white-space: nowrap; max-width: 500px; overflow: hidden; text-overflow: ellipsis; \">[&quot;A&quot;,&quot;G&quot;]</td><td style=\"white-space: nowrap; max-width: 500px; overflow: hidden; text-overflow: ellipsis; \">1/1</td><td style=\"white-space: nowrap; max-width: 500px; overflow: hidden; text-overflow: ellipsis; \">1/1</td><td style=\"white-space: nowrap; max-width: 500px; overflow: hidden; text-overflow: ellipsis; \">1/1</td></tr>\n",
       "<tr><td style=\"white-space: nowrap; max-width: 500px; overflow: hidden; text-overflow: ellipsis; \">20:80728</td><td style=\"white-space: nowrap; max-width: 500px; overflow: hidden; text-overflow: ellipsis; \">[&quot;C&quot;,&quot;G&quot;]</td><td style=\"white-space: nowrap; max-width: 500px; overflow: hidden; text-overflow: ellipsis; \">0/1</td><td style=\"white-space: nowrap; max-width: 500px; overflow: hidden; text-overflow: ellipsis; \">0/0</td><td style=\"white-space: nowrap; max-width: 500px; overflow: hidden; text-overflow: ellipsis; \">0/0</td></tr>\n",
       "<tr><td style=\"white-space: nowrap; max-width: 500px; overflow: hidden; text-overflow: ellipsis; \">20:81936</td><td style=\"white-space: nowrap; max-width: 500px; overflow: hidden; text-overflow: ellipsis; \">[&quot;G&quot;,&quot;GTT&quot;]</td><td style=\"white-space: nowrap; max-width: 500px; overflow: hidden; text-overflow: ellipsis; \">0/0</td><td style=\"white-space: nowrap; max-width: 500px; overflow: hidden; text-overflow: ellipsis; \">0/1</td><td style=\"white-space: nowrap; max-width: 500px; overflow: hidden; text-overflow: ellipsis; \">0/0</td></tr>\n",
       "<tr><td style=\"white-space: nowrap; max-width: 500px; overflow: hidden; text-overflow: ellipsis; \">20:81982</td><td style=\"white-space: nowrap; max-width: 500px; overflow: hidden; text-overflow: ellipsis; \">[&quot;A&quot;,&quot;G&quot;]</td><td style=\"white-space: nowrap; max-width: 500px; overflow: hidden; text-overflow: ellipsis; \">0/0</td><td style=\"white-space: nowrap; max-width: 500px; overflow: hidden; text-overflow: ellipsis; \">0/1</td><td style=\"white-space: nowrap; max-width: 500px; overflow: hidden; text-overflow: ellipsis; \">0/1</td></tr>\n",
       "<tr><td style=\"white-space: nowrap; max-width: 500px; overflow: hidden; text-overflow: ellipsis; \">20:82012</td><td style=\"white-space: nowrap; max-width: 500px; overflow: hidden; text-overflow: ellipsis; \">[&quot;T&quot;,&quot;C&quot;]</td><td style=\"white-space: nowrap; max-width: 500px; overflow: hidden; text-overflow: ellipsis; \">0/1</td><td style=\"white-space: nowrap; max-width: 500px; overflow: hidden; text-overflow: ellipsis; \">0/1</td><td style=\"white-space: nowrap; max-width: 500px; overflow: hidden; text-overflow: ellipsis; \">0/0</td></tr>\n",
       "<tr><td style=\"white-space: nowrap; max-width: 500px; overflow: hidden; text-overflow: ellipsis; \">20:82139</td><td style=\"white-space: nowrap; max-width: 500px; overflow: hidden; text-overflow: ellipsis; \">[&quot;A&quot;,&quot;G&quot;]</td><td style=\"white-space: nowrap; max-width: 500px; overflow: hidden; text-overflow: ellipsis; \">0/0</td><td style=\"white-space: nowrap; max-width: 500px; overflow: hidden; text-overflow: ellipsis; \">0|1</td><td style=\"white-space: nowrap; max-width: 500px; overflow: hidden; text-overflow: ellipsis; \">0|1</td></tr>\n",
       "<tr><td style=\"white-space: nowrap; max-width: 500px; overflow: hidden; text-overflow: ellipsis; \">20:82146</td><td style=\"white-space: nowrap; max-width: 500px; overflow: hidden; text-overflow: ellipsis; \">[&quot;A&quot;,&quot;C&quot;]</td><td style=\"white-space: nowrap; max-width: 500px; overflow: hidden; text-overflow: ellipsis; \">0/0</td><td style=\"white-space: nowrap; max-width: 500px; overflow: hidden; text-overflow: ellipsis; \">0|1</td><td style=\"white-space: nowrap; max-width: 500px; overflow: hidden; text-overflow: ellipsis; \">0|1</td></tr>\n",
       "<tr><td style=\"white-space: nowrap; max-width: 500px; overflow: hidden; text-overflow: ellipsis; \">20:82217</td><td style=\"white-space: nowrap; max-width: 500px; overflow: hidden; text-overflow: ellipsis; \">[&quot;G&quot;,&quot;A&quot;]</td><td style=\"white-space: nowrap; max-width: 500px; overflow: hidden; text-overflow: ellipsis; \">1/1</td><td style=\"white-space: nowrap; max-width: 500px; overflow: hidden; text-overflow: ellipsis; \">0/1</td><td style=\"white-space: nowrap; max-width: 500px; overflow: hidden; text-overflow: ellipsis; \">0/1</td></tr>\n",
       "<tr><td style=\"white-space: nowrap; max-width: 500px; overflow: hidden; text-overflow: ellipsis; \">20:82701</td><td style=\"white-space: nowrap; max-width: 500px; overflow: hidden; text-overflow: ellipsis; \">[&quot;T&quot;,&quot;C&quot;]</td><td style=\"white-space: nowrap; max-width: 500px; overflow: hidden; text-overflow: ellipsis; \">0/0</td><td style=\"white-space: nowrap; max-width: 500px; overflow: hidden; text-overflow: ellipsis; \">0/1</td><td style=\"white-space: nowrap; max-width: 500px; overflow: hidden; text-overflow: ellipsis; \">0/0</td></tr>\n",
       "<tr><td style=\"white-space: nowrap; max-width: 500px; overflow: hidden; text-overflow: ellipsis; \">20:83252</td><td style=\"white-space: nowrap; max-width: 500px; overflow: hidden; text-overflow: ellipsis; \">[&quot;G&quot;,&quot;C&quot;]</td><td style=\"white-space: nowrap; max-width: 500px; overflow: hidden; text-overflow: ellipsis; \">0/0</td><td style=\"white-space: nowrap; max-width: 500px; overflow: hidden; text-overflow: ellipsis; \">0|1</td><td style=\"white-space: nowrap; max-width: 500px; overflow: hidden; text-overflow: ellipsis; \">0|1</td></tr>\n",
       "<tr><td style=\"white-space: nowrap; max-width: 500px; overflow: hidden; text-overflow: ellipsis; \">20:83254</td><td style=\"white-space: nowrap; max-width: 500px; overflow: hidden; text-overflow: ellipsis; \">[&quot;G&quot;,&quot;C&quot;]</td><td style=\"white-space: nowrap; max-width: 500px; overflow: hidden; text-overflow: ellipsis; \">0/0</td><td style=\"white-space: nowrap; max-width: 500px; overflow: hidden; text-overflow: ellipsis; \">0|1</td><td style=\"white-space: nowrap; max-width: 500px; overflow: hidden; text-overflow: ellipsis; \">0|1</td></tr>\n",
       "<tr><td style=\"white-space: nowrap; max-width: 500px; overflow: hidden; text-overflow: ellipsis; \">20:83256</td><td style=\"white-space: nowrap; max-width: 500px; overflow: hidden; text-overflow: ellipsis; \">[&quot;G&quot;,&quot;C&quot;]</td><td style=\"white-space: nowrap; max-width: 500px; overflow: hidden; text-overflow: ellipsis; \">0/0</td><td style=\"white-space: nowrap; max-width: 500px; overflow: hidden; text-overflow: ellipsis; \">0|1</td><td style=\"white-space: nowrap; max-width: 500px; overflow: hidden; text-overflow: ellipsis; \">0|1</td></tr>\n",
       "<tr><td style=\"white-space: nowrap; max-width: 500px; overflow: hidden; text-overflow: ellipsis; \">20:86164</td><td style=\"white-space: nowrap; max-width: 500px; overflow: hidden; text-overflow: ellipsis; \">[&quot;AG&quot;,&quot;A&quot;]</td><td style=\"white-space: nowrap; max-width: 500px; overflow: hidden; text-overflow: ellipsis; \">0/0</td><td style=\"white-space: nowrap; max-width: 500px; overflow: hidden; text-overflow: ellipsis; \">0/1</td><td style=\"white-space: nowrap; max-width: 500px; overflow: hidden; text-overflow: ellipsis; \">0/0</td></tr>\n",
       "<tr><td style=\"white-space: nowrap; max-width: 500px; overflow: hidden; text-overflow: ellipsis; \">20:87263</td><td style=\"white-space: nowrap; max-width: 500px; overflow: hidden; text-overflow: ellipsis; \">[&quot;GA&quot;,&quot;G&quot;]</td><td style=\"white-space: nowrap; max-width: 500px; overflow: hidden; text-overflow: ellipsis; \">0/0</td><td style=\"white-space: nowrap; max-width: 500px; overflow: hidden; text-overflow: ellipsis; \">0/1</td><td style=\"white-space: nowrap; max-width: 500px; overflow: hidden; text-overflow: ellipsis; \">0/0</td></tr>\n",
       "<tr><td style=\"white-space: nowrap; max-width: 500px; overflow: hidden; text-overflow: ellipsis; \">20:87416</td><td style=\"white-space: nowrap; max-width: 500px; overflow: hidden; text-overflow: ellipsis; \">[&quot;A&quot;,&quot;C&quot;]</td><td style=\"white-space: nowrap; max-width: 500px; overflow: hidden; text-overflow: ellipsis; \">0/1</td><td style=\"white-space: nowrap; max-width: 500px; overflow: hidden; text-overflow: ellipsis; \">0/1</td><td style=\"white-space: nowrap; max-width: 500px; overflow: hidden; text-overflow: ellipsis; \">0/1</td></tr>\n",
       "<tr><td style=\"white-space: nowrap; max-width: 500px; overflow: hidden; text-overflow: ellipsis; \">20:87790</td><td style=\"white-space: nowrap; max-width: 500px; overflow: hidden; text-overflow: ellipsis; \">[&quot;C&quot;,&quot;T&quot;]</td><td style=\"white-space: nowrap; max-width: 500px; overflow: hidden; text-overflow: ellipsis; \">0/1</td><td style=\"white-space: nowrap; max-width: 500px; overflow: hidden; text-overflow: ellipsis; \">0/0</td><td style=\"white-space: nowrap; max-width: 500px; overflow: hidden; text-overflow: ellipsis; \">0/1</td></tr>\n",
       "<tr><td style=\"white-space: nowrap; max-width: 500px; overflow: hidden; text-overflow: ellipsis; \">20:88155</td><td style=\"white-space: nowrap; max-width: 500px; overflow: hidden; text-overflow: ellipsis; \">[&quot;T&quot;,&quot;C&quot;]</td><td style=\"white-space: nowrap; max-width: 500px; overflow: hidden; text-overflow: ellipsis; \">0/1</td><td style=\"white-space: nowrap; max-width: 500px; overflow: hidden; text-overflow: ellipsis; \">0/0</td><td style=\"white-space: nowrap; max-width: 500px; overflow: hidden; text-overflow: ellipsis; \">0/1</td></tr>\n",
       "<tr><td style=\"white-space: nowrap; max-width: 500px; overflow: hidden; text-overflow: ellipsis; \">20:88827</td><td style=\"white-space: nowrap; max-width: 500px; overflow: hidden; text-overflow: ellipsis; \">[&quot;C&quot;,&quot;A&quot;]</td><td style=\"white-space: nowrap; max-width: 500px; overflow: hidden; text-overflow: ellipsis; \">0/0</td><td style=\"white-space: nowrap; max-width: 500px; overflow: hidden; text-overflow: ellipsis; \">0/1</td><td style=\"white-space: nowrap; max-width: 500px; overflow: hidden; text-overflow: ellipsis; \">0/0</td></tr>\n",
       "<tr><td style=\"white-space: nowrap; max-width: 500px; overflow: hidden; text-overflow: ellipsis; \">20:90008</td><td style=\"white-space: nowrap; max-width: 500px; overflow: hidden; text-overflow: ellipsis; \">[&quot;C&quot;,&quot;A&quot;]</td><td style=\"white-space: nowrap; max-width: 500px; overflow: hidden; text-overflow: ellipsis; \">0/1</td><td style=\"white-space: nowrap; max-width: 500px; overflow: hidden; text-overflow: ellipsis; \">0/0</td><td style=\"white-space: nowrap; max-width: 500px; overflow: hidden; text-overflow: ellipsis; \">0/0</td></tr>\n",
       "<tr><td style=\"white-space: nowrap; max-width: 500px; overflow: hidden; text-overflow: ellipsis; \">20:90984</td><td style=\"white-space: nowrap; max-width: 500px; overflow: hidden; text-overflow: ellipsis; \">[&quot;A&quot;,&quot;G&quot;]</td><td style=\"white-space: nowrap; max-width: 500px; overflow: hidden; text-overflow: ellipsis; \">0/0</td><td style=\"white-space: nowrap; max-width: 500px; overflow: hidden; text-overflow: ellipsis; \">0/1</td><td style=\"white-space: nowrap; max-width: 500px; overflow: hidden; text-overflow: ellipsis; \">0/0</td></tr>\n",
       "<tr><td style=\"white-space: nowrap; max-width: 500px; overflow: hidden; text-overflow: ellipsis; \">20:91088</td><td style=\"white-space: nowrap; max-width: 500px; overflow: hidden; text-overflow: ellipsis; \">[&quot;C&quot;,&quot;T&quot;]</td><td style=\"white-space: nowrap; max-width: 500px; overflow: hidden; text-overflow: ellipsis; \">1/1</td><td style=\"white-space: nowrap; max-width: 500px; overflow: hidden; text-overflow: ellipsis; \">0/1</td><td style=\"white-space: nowrap; max-width: 500px; overflow: hidden; text-overflow: ellipsis; \">0/1</td></tr>\n",
       "<tr><td style=\"white-space: nowrap; max-width: 500px; overflow: hidden; text-overflow: ellipsis; \">20:91346</td><td style=\"white-space: nowrap; max-width: 500px; overflow: hidden; text-overflow: ellipsis; \">[&quot;G&quot;,&quot;A&quot;]</td><td style=\"white-space: nowrap; max-width: 500px; overflow: hidden; text-overflow: ellipsis; \">0/0</td><td style=\"white-space: nowrap; max-width: 500px; overflow: hidden; text-overflow: ellipsis; \">0/1</td><td style=\"white-space: nowrap; max-width: 500px; overflow: hidden; text-overflow: ellipsis; \">0/0</td></tr>\n",
       "<tr><td style=\"white-space: nowrap; max-width: 500px; overflow: hidden; text-overflow: ellipsis; \">20:91508</td><td style=\"white-space: nowrap; max-width: 500px; overflow: hidden; text-overflow: ellipsis; \">[&quot;G&quot;,&quot;A&quot;]</td><td style=\"white-space: nowrap; max-width: 500px; overflow: hidden; text-overflow: ellipsis; \">1/1</td><td style=\"white-space: nowrap; max-width: 500px; overflow: hidden; text-overflow: ellipsis; \">0/1</td><td style=\"white-space: nowrap; max-width: 500px; overflow: hidden; text-overflow: ellipsis; \">0/1</td></tr>\n",
       "<tr><td style=\"white-space: nowrap; max-width: 500px; overflow: hidden; text-overflow: ellipsis; \">20:92527</td><td style=\"white-space: nowrap; max-width: 500px; overflow: hidden; text-overflow: ellipsis; \">[&quot;A&quot;,&quot;G&quot;]</td><td style=\"white-space: nowrap; max-width: 500px; overflow: hidden; text-overflow: ellipsis; \">1/1</td><td style=\"white-space: nowrap; max-width: 500px; overflow: hidden; text-overflow: ellipsis; \">0/1</td><td style=\"white-space: nowrap; max-width: 500px; overflow: hidden; text-overflow: ellipsis; \">0/1</td></tr>\n",
       "<tr><td style=\"white-space: nowrap; max-width: 500px; overflow: hidden; text-overflow: ellipsis; \">20:93440</td><td style=\"white-space: nowrap; max-width: 500px; overflow: hidden; text-overflow: ellipsis; \">[&quot;A&quot;,&quot;G&quot;]</td><td style=\"white-space: nowrap; max-width: 500px; overflow: hidden; text-overflow: ellipsis; \">0/0</td><td style=\"white-space: nowrap; max-width: 500px; overflow: hidden; text-overflow: ellipsis; \">0/1</td><td style=\"white-space: nowrap; max-width: 500px; overflow: hidden; text-overflow: ellipsis; \">0/0</td></tr>\n",
       "<tr><td style=\"white-space: nowrap; max-width: 500px; overflow: hidden; text-overflow: ellipsis; \">20:93931</td><td style=\"white-space: nowrap; max-width: 500px; overflow: hidden; text-overflow: ellipsis; \">[&quot;G&quot;,&quot;A&quot;]</td><td style=\"white-space: nowrap; max-width: 500px; overflow: hidden; text-overflow: ellipsis; \">0/0</td><td style=\"white-space: nowrap; max-width: 500px; overflow: hidden; text-overflow: ellipsis; \">0/1</td><td style=\"white-space: nowrap; max-width: 500px; overflow: hidden; text-overflow: ellipsis; \">0/0</td></tr>\n",
       "<tr><td style=\"white-space: nowrap; max-width: 500px; overflow: hidden; text-overflow: ellipsis; \">20:96497</td><td style=\"white-space: nowrap; max-width: 500px; overflow: hidden; text-overflow: ellipsis; \">[&quot;C&quot;,&quot;G&quot;]</td><td style=\"white-space: nowrap; max-width: 500px; overflow: hidden; text-overflow: ellipsis; \">0/1</td><td style=\"white-space: nowrap; max-width: 500px; overflow: hidden; text-overflow: ellipsis; \">0/0</td><td style=\"white-space: nowrap; max-width: 500px; overflow: hidden; text-overflow: ellipsis; \">0/1</td></tr>\n",
       "<tr><td style=\"white-space: nowrap; max-width: 500px; overflow: hidden; text-overflow: ellipsis; \">20:100699</td><td style=\"white-space: nowrap; max-width: 500px; overflow: hidden; text-overflow: ellipsis; \">[&quot;C&quot;,&quot;T&quot;]</td><td style=\"white-space: nowrap; max-width: 500px; overflow: hidden; text-overflow: ellipsis; \">0/0</td><td style=\"white-space: nowrap; max-width: 500px; overflow: hidden; text-overflow: ellipsis; \">0/1</td><td style=\"white-space: nowrap; max-width: 500px; overflow: hidden; text-overflow: ellipsis; \">0/0</td></tr>\n",
       "<tr><td style=\"white-space: nowrap; max-width: 500px; overflow: hidden; text-overflow: ellipsis; \">20:101362</td><td style=\"white-space: nowrap; max-width: 500px; overflow: hidden; text-overflow: ellipsis; \">[&quot;G&quot;,&quot;A&quot;]</td><td style=\"white-space: nowrap; max-width: 500px; overflow: hidden; text-overflow: ellipsis; \">0/1</td><td style=\"white-space: nowrap; max-width: 500px; overflow: hidden; text-overflow: ellipsis; \">0/0</td><td style=\"white-space: nowrap; max-width: 500px; overflow: hidden; text-overflow: ellipsis; \">0/0</td></tr>\n",
       "<tr><td style=\"white-space: nowrap; max-width: 500px; overflow: hidden; text-overflow: ellipsis; \">20:101599</td><td style=\"white-space: nowrap; max-width: 500px; overflow: hidden; text-overflow: ellipsis; \">[&quot;TA&quot;,&quot;T&quot;]</td><td style=\"white-space: nowrap; max-width: 500px; overflow: hidden; text-overflow: ellipsis; \">0/0</td><td style=\"white-space: nowrap; max-width: 500px; overflow: hidden; text-overflow: ellipsis; \">0/1</td><td style=\"white-space: nowrap; max-width: 500px; overflow: hidden; text-overflow: ellipsis; \">0/1</td></tr>\n",
       "<tr><td style=\"white-space: nowrap; max-width: 500px; overflow: hidden; text-overflow: ellipsis; \">20:102181</td><td style=\"white-space: nowrap; max-width: 500px; overflow: hidden; text-overflow: ellipsis; \">[&quot;T&quot;,&quot;C&quot;]</td><td style=\"white-space: nowrap; max-width: 500px; overflow: hidden; text-overflow: ellipsis; \">0/0</td><td style=\"white-space: nowrap; max-width: 500px; overflow: hidden; text-overflow: ellipsis; \">0/1</td><td style=\"white-space: nowrap; max-width: 500px; overflow: hidden; text-overflow: ellipsis; \">0/0</td></tr>\n",
       "<tr><td style=\"white-space: nowrap; max-width: 500px; overflow: hidden; text-overflow: ellipsis; \">20:102799</td><td style=\"white-space: nowrap; max-width: 500px; overflow: hidden; text-overflow: ellipsis; \">[&quot;G&quot;,&quot;A&quot;]</td><td style=\"white-space: nowrap; max-width: 500px; overflow: hidden; text-overflow: ellipsis; \">0/0</td><td style=\"white-space: nowrap; max-width: 500px; overflow: hidden; text-overflow: ellipsis; \">0/1</td><td style=\"white-space: nowrap; max-width: 500px; overflow: hidden; text-overflow: ellipsis; \">0/0</td></tr>\n",
       "<tr><td style=\"white-space: nowrap; max-width: 500px; overflow: hidden; text-overflow: ellipsis; \">20:103517</td><td style=\"white-space: nowrap; max-width: 500px; overflow: hidden; text-overflow: ellipsis; \">[&quot;A&quot;,&quot;T&quot;]</td><td style=\"white-space: nowrap; max-width: 500px; overflow: hidden; text-overflow: ellipsis; \">0/0</td><td style=\"white-space: nowrap; max-width: 500px; overflow: hidden; text-overflow: ellipsis; \">0/1</td><td style=\"white-space: nowrap; max-width: 500px; overflow: hidden; text-overflow: ellipsis; \">0/0</td></tr>\n",
       "<tr><td style=\"white-space: nowrap; max-width: 500px; overflow: hidden; text-overflow: ellipsis; \">20:104899</td><td style=\"white-space: nowrap; max-width: 500px; overflow: hidden; text-overflow: ellipsis; \">[&quot;C&quot;,&quot;T&quot;]</td><td style=\"white-space: nowrap; max-width: 500px; overflow: hidden; text-overflow: ellipsis; \">0/0</td><td style=\"white-space: nowrap; max-width: 500px; overflow: hidden; text-overflow: ellipsis; \">0/1</td><td style=\"white-space: nowrap; max-width: 500px; overflow: hidden; text-overflow: ellipsis; \">0/0</td></tr>\n",
       "<tr><td style=\"white-space: nowrap; max-width: 500px; overflow: hidden; text-overflow: ellipsis; \">20:105024</td><td style=\"white-space: nowrap; max-width: 500px; overflow: hidden; text-overflow: ellipsis; \">[&quot;AT&quot;,&quot;A&quot;]</td><td style=\"white-space: nowrap; max-width: 500px; overflow: hidden; text-overflow: ellipsis; \">0/0</td><td style=\"white-space: nowrap; max-width: 500px; overflow: hidden; text-overflow: ellipsis; \">0/1</td><td style=\"white-space: nowrap; max-width: 500px; overflow: hidden; text-overflow: ellipsis; \">0/0</td></tr>\n",
       "<tr><td style=\"white-space: nowrap; max-width: 500px; overflow: hidden; text-overflow: ellipsis; \">20:106635</td><td style=\"white-space: nowrap; max-width: 500px; overflow: hidden; text-overflow: ellipsis; \">[&quot;G&quot;,&quot;A&quot;]</td><td style=\"white-space: nowrap; max-width: 500px; overflow: hidden; text-overflow: ellipsis; \">0/0</td><td style=\"white-space: nowrap; max-width: 500px; overflow: hidden; text-overflow: ellipsis; \">0/1</td><td style=\"white-space: nowrap; max-width: 500px; overflow: hidden; text-overflow: ellipsis; \">0/0</td></tr>\n",
       "<tr><td style=\"white-space: nowrap; max-width: 500px; overflow: hidden; text-overflow: ellipsis; \">20:106703</td><td style=\"white-space: nowrap; max-width: 500px; overflow: hidden; text-overflow: ellipsis; \">[&quot;C&quot;,&quot;CT&quot;,&quot;CTTT&quot;]</td><td style=\"white-space: nowrap; max-width: 500px; overflow: hidden; text-overflow: ellipsis; \">0/1</td><td style=\"white-space: nowrap; max-width: 500px; overflow: hidden; text-overflow: ellipsis; \">1/2</td><td style=\"white-space: nowrap; max-width: 500px; overflow: hidden; text-overflow: ellipsis; \">1/1</td></tr>\n",
       "<tr><td style=\"white-space: nowrap; max-width: 500px; overflow: hidden; text-overflow: ellipsis; \">20:108286</td><td style=\"white-space: nowrap; max-width: 500px; overflow: hidden; text-overflow: ellipsis; \">[&quot;T&quot;,&quot;G&quot;]</td><td style=\"white-space: nowrap; max-width: 500px; overflow: hidden; text-overflow: ellipsis; \">0/0</td><td style=\"white-space: nowrap; max-width: 500px; overflow: hidden; text-overflow: ellipsis; \">0/1</td><td style=\"white-space: nowrap; max-width: 500px; overflow: hidden; text-overflow: ellipsis; \">0/0</td></tr>\n",
       "<tr><td style=\"white-space: nowrap; max-width: 500px; overflow: hidden; text-overflow: ellipsis; \">20:108328</td><td style=\"white-space: nowrap; max-width: 500px; overflow: hidden; text-overflow: ellipsis; \">[&quot;A&quot;,&quot;C&quot;]</td><td style=\"white-space: nowrap; max-width: 500px; overflow: hidden; text-overflow: ellipsis; \">1/1</td><td style=\"white-space: nowrap; max-width: 500px; overflow: hidden; text-overflow: ellipsis; \">0/1</td><td style=\"white-space: nowrap; max-width: 500px; overflow: hidden; text-overflow: ellipsis; \">0/1</td></tr>\n",
       "<tr><td style=\"white-space: nowrap; max-width: 500px; overflow: hidden; text-overflow: ellipsis; \">20:109179</td><td style=\"white-space: nowrap; max-width: 500px; overflow: hidden; text-overflow: ellipsis; \">[&quot;C&quot;,&quot;T&quot;]</td><td style=\"white-space: nowrap; max-width: 500px; overflow: hidden; text-overflow: ellipsis; \">0/0</td><td style=\"white-space: nowrap; max-width: 500px; overflow: hidden; text-overflow: ellipsis; \">0|1</td><td style=\"white-space: nowrap; max-width: 500px; overflow: hidden; text-overflow: ellipsis; \">0/0</td></tr>\n",
       "<tr><td style=\"white-space: nowrap; max-width: 500px; overflow: hidden; text-overflow: ellipsis; \">20:110058</td><td style=\"white-space: nowrap; max-width: 500px; overflow: hidden; text-overflow: ellipsis; \">[&quot;G&quot;,&quot;C&quot;]</td><td style=\"white-space: nowrap; max-width: 500px; overflow: hidden; text-overflow: ellipsis; \">0/0</td><td style=\"white-space: nowrap; max-width: 500px; overflow: hidden; text-overflow: ellipsis; \">0/1</td><td style=\"white-space: nowrap; max-width: 500px; overflow: hidden; text-overflow: ellipsis; \">0/0</td></tr>\n",
       "<tr><td style=\"white-space: nowrap; max-width: 500px; overflow: hidden; text-overflow: ellipsis; \">20:110098</td><td style=\"white-space: nowrap; max-width: 500px; overflow: hidden; text-overflow: ellipsis; \">[&quot;A&quot;,&quot;G&quot;]</td><td style=\"white-space: nowrap; max-width: 500px; overflow: hidden; text-overflow: ellipsis; \">0/0</td><td style=\"white-space: nowrap; max-width: 500px; overflow: hidden; text-overflow: ellipsis; \">0/1</td><td style=\"white-space: nowrap; max-width: 500px; overflow: hidden; text-overflow: ellipsis; \">0/0</td></tr>\n",
       "<tr><td style=\"white-space: nowrap; max-width: 500px; overflow: hidden; text-overflow: ellipsis; \">20:110702</td><td style=\"white-space: nowrap; max-width: 500px; overflow: hidden; text-overflow: ellipsis; \">[&quot;C&quot;,&quot;T&quot;]</td><td style=\"white-space: nowrap; max-width: 500px; overflow: hidden; text-overflow: ellipsis; \">0/0</td><td style=\"white-space: nowrap; max-width: 500px; overflow: hidden; text-overflow: ellipsis; \">0/1</td><td style=\"white-space: nowrap; max-width: 500px; overflow: hidden; text-overflow: ellipsis; \">0/0</td></tr>\n",
       "<tr><td style=\"white-space: nowrap; max-width: 500px; overflow: hidden; text-overflow: ellipsis; \">20:110761</td><td style=\"white-space: nowrap; max-width: 500px; overflow: hidden; text-overflow: ellipsis; \">[&quot;G&quot;,&quot;A&quot;]</td><td style=\"white-space: nowrap; max-width: 500px; overflow: hidden; text-overflow: ellipsis; \">0/0</td><td style=\"white-space: nowrap; max-width: 500px; overflow: hidden; text-overflow: ellipsis; \">0/1</td><td style=\"white-space: nowrap; max-width: 500px; overflow: hidden; text-overflow: ellipsis; \">0/0</td></tr>\n",
       "<tr><td style=\"white-space: nowrap; max-width: 500px; overflow: hidden; text-overflow: ellipsis; \">20:110979</td><td style=\"white-space: nowrap; max-width: 500px; overflow: hidden; text-overflow: ellipsis; \">[&quot;A&quot;,&quot;C&quot;,&quot;G&quot;]</td><td style=\"white-space: nowrap; max-width: 500px; overflow: hidden; text-overflow: ellipsis; \">1|1</td><td style=\"white-space: nowrap; max-width: 500px; overflow: hidden; text-overflow: ellipsis; \">0/2</td><td style=\"white-space: nowrap; max-width: 500px; overflow: hidden; text-overflow: ellipsis; \">0|1</td></tr>\n",
       "<tr><td style=\"white-space: nowrap; max-width: 500px; overflow: hidden; text-overflow: ellipsis; \">20:110980</td><td style=\"white-space: nowrap; max-width: 500px; overflow: hidden; text-overflow: ellipsis; \">[&quot;T&quot;,&quot;C&quot;]</td><td style=\"white-space: nowrap; max-width: 500px; overflow: hidden; text-overflow: ellipsis; \">1|1</td><td style=\"white-space: nowrap; max-width: 500px; overflow: hidden; text-overflow: ellipsis; \">0/0</td><td style=\"white-space: nowrap; max-width: 500px; overflow: hidden; text-overflow: ellipsis; \">0|1</td></tr>\n",
       "<tr><td style=\"white-space: nowrap; max-width: 500px; overflow: hidden; text-overflow: ellipsis; \">20:112877</td><td style=\"white-space: nowrap; max-width: 500px; overflow: hidden; text-overflow: ellipsis; \">[&quot;C&quot;,&quot;T&quot;]</td><td style=\"white-space: nowrap; max-width: 500px; overflow: hidden; text-overflow: ellipsis; \">0/1</td><td style=\"white-space: nowrap; max-width: 500px; overflow: hidden; text-overflow: ellipsis; \">0/0</td><td style=\"white-space: nowrap; max-width: 500px; overflow: hidden; text-overflow: ellipsis; \">0/0</td></tr>\n",
       "<tr><td style=\"white-space: nowrap; max-width: 500px; overflow: hidden; text-overflow: ellipsis; \">20:114916</td><td style=\"white-space: nowrap; max-width: 500px; overflow: hidden; text-overflow: ellipsis; \">[&quot;G&quot;,&quot;A&quot;]</td><td style=\"white-space: nowrap; max-width: 500px; overflow: hidden; text-overflow: ellipsis; \">0/0</td><td style=\"white-space: nowrap; max-width: 500px; overflow: hidden; text-overflow: ellipsis; \">0/0</td><td style=\"white-space: nowrap; max-width: 500px; overflow: hidden; text-overflow: ellipsis; \">1/1</td></tr>\n",
       "<tr><td style=\"white-space: nowrap; max-width: 500px; overflow: hidden; text-overflow: ellipsis; \">20:116405</td><td style=\"white-space: nowrap; max-width: 500px; overflow: hidden; text-overflow: ellipsis; \">[&quot;G&quot;,&quot;A&quot;]</td><td style=\"white-space: nowrap; max-width: 500px; overflow: hidden; text-overflow: ellipsis; \">0/0</td><td style=\"white-space: nowrap; max-width: 500px; overflow: hidden; text-overflow: ellipsis; \">0/1</td><td style=\"white-space: nowrap; max-width: 500px; overflow: hidden; text-overflow: ellipsis; \">0/0</td></tr>\n",
       "<tr><td style=\"white-space: nowrap; max-width: 500px; overflow: hidden; text-overflow: ellipsis; \">20:116787</td><td style=\"white-space: nowrap; max-width: 500px; overflow: hidden; text-overflow: ellipsis; \">[&quot;A&quot;,&quot;G&quot;]</td><td style=\"white-space: nowrap; max-width: 500px; overflow: hidden; text-overflow: ellipsis; \">0/0</td><td style=\"white-space: nowrap; max-width: 500px; overflow: hidden; text-overflow: ellipsis; \">0/1</td><td style=\"white-space: nowrap; max-width: 500px; overflow: hidden; text-overflow: ellipsis; \">0/0</td></tr>\n",
       "<tr><td style=\"white-space: nowrap; max-width: 500px; overflow: hidden; text-overflow: ellipsis; \">20:117309</td><td style=\"white-space: nowrap; max-width: 500px; overflow: hidden; text-overflow: ellipsis; \">[&quot;G&quot;,&quot;GCAGGATTTCAT&quot;]</td><td style=\"white-space: nowrap; max-width: 500px; overflow: hidden; text-overflow: ellipsis; \">0/0</td><td style=\"white-space: nowrap; max-width: 500px; overflow: hidden; text-overflow: ellipsis; \">0/1</td><td style=\"white-space: nowrap; max-width: 500px; overflow: hidden; text-overflow: ellipsis; \">0/0</td></tr>\n",
       "<tr><td style=\"white-space: nowrap; max-width: 500px; overflow: hidden; text-overflow: ellipsis; \">20:119645</td><td style=\"white-space: nowrap; max-width: 500px; overflow: hidden; text-overflow: ellipsis; \">[&quot;G&quot;,&quot;GT&quot;]</td><td style=\"white-space: nowrap; max-width: 500px; overflow: hidden; text-overflow: ellipsis; \">0/0</td><td style=\"white-space: nowrap; max-width: 500px; overflow: hidden; text-overflow: ellipsis; \">0/1</td><td style=\"white-space: nowrap; max-width: 500px; overflow: hidden; text-overflow: ellipsis; \">0/0</td></tr>\n",
       "<tr><td style=\"white-space: nowrap; max-width: 500px; overflow: hidden; text-overflow: ellipsis; \">20:120122</td><td style=\"white-space: nowrap; max-width: 500px; overflow: hidden; text-overflow: ellipsis; \">[&quot;A&quot;,&quot;AAG&quot;]</td><td style=\"white-space: nowrap; max-width: 500px; overflow: hidden; text-overflow: ellipsis; \">1/1</td><td style=\"white-space: nowrap; max-width: 500px; overflow: hidden; text-overflow: ellipsis; \">0/1</td><td style=\"white-space: nowrap; max-width: 500px; overflow: hidden; text-overflow: ellipsis; \">0/1</td></tr>\n",
       "<tr><td style=\"white-space: nowrap; max-width: 500px; overflow: hidden; text-overflow: ellipsis; \">20:120471</td><td style=\"white-space: nowrap; max-width: 500px; overflow: hidden; text-overflow: ellipsis; \">[&quot;A&quot;,&quot;G&quot;]</td><td style=\"white-space: nowrap; max-width: 500px; overflow: hidden; text-overflow: ellipsis; \">0/0</td><td style=\"white-space: nowrap; max-width: 500px; overflow: hidden; text-overflow: ellipsis; \">0/1</td><td style=\"white-space: nowrap; max-width: 500px; overflow: hidden; text-overflow: ellipsis; \">0/0</td></tr>\n",
       "<tr><td style=\"white-space: nowrap; max-width: 500px; overflow: hidden; text-overflow: ellipsis; \">20:120750</td><td style=\"white-space: nowrap; max-width: 500px; overflow: hidden; text-overflow: ellipsis; \">[&quot;C&quot;,&quot;CAATT&quot;]</td><td style=\"white-space: nowrap; max-width: 500px; overflow: hidden; text-overflow: ellipsis; \">1/1</td><td style=\"white-space: nowrap; max-width: 500px; overflow: hidden; text-overflow: ellipsis; \">0/1</td><td style=\"white-space: nowrap; max-width: 500px; overflow: hidden; text-overflow: ellipsis; \">0/1</td></tr>\n",
       "<tr><td style=\"white-space: nowrap; max-width: 500px; overflow: hidden; text-overflow: ellipsis; \">20:121310</td><td style=\"white-space: nowrap; max-width: 500px; overflow: hidden; text-overflow: ellipsis; \">[&quot;A&quot;,&quot;C&quot;]</td><td style=\"white-space: nowrap; max-width: 500px; overflow: hidden; text-overflow: ellipsis; \">0/0</td><td style=\"white-space: nowrap; max-width: 500px; overflow: hidden; text-overflow: ellipsis; \">0/1</td><td style=\"white-space: nowrap; max-width: 500px; overflow: hidden; text-overflow: ellipsis; \">0/0</td></tr>\n",
       "<tr><td style=\"white-space: nowrap; max-width: 500px; overflow: hidden; text-overflow: ellipsis; \">20:121478</td><td style=\"white-space: nowrap; max-width: 500px; overflow: hidden; text-overflow: ellipsis; \">[&quot;C&quot;,&quot;A&quot;]</td><td style=\"white-space: nowrap; max-width: 500px; overflow: hidden; text-overflow: ellipsis; \">0/0</td><td style=\"white-space: nowrap; max-width: 500px; overflow: hidden; text-overflow: ellipsis; \">0/1</td><td style=\"white-space: nowrap; max-width: 500px; overflow: hidden; text-overflow: ellipsis; \">0/0</td></tr>\n",
       "<tr><td style=\"white-space: nowrap; max-width: 500px; overflow: hidden; text-overflow: ellipsis; \">20:121479</td><td style=\"white-space: nowrap; max-width: 500px; overflow: hidden; text-overflow: ellipsis; \">[&quot;G&quot;,&quot;GT&quot;]</td><td style=\"white-space: nowrap; max-width: 500px; overflow: hidden; text-overflow: ellipsis; \">0/1</td><td style=\"white-space: nowrap; max-width: 500px; overflow: hidden; text-overflow: ellipsis; \">0/0</td><td style=\"white-space: nowrap; max-width: 500px; overflow: hidden; text-overflow: ellipsis; \">0/0</td></tr>\n",
       "<tr><td style=\"white-space: nowrap; max-width: 500px; overflow: hidden; text-overflow: ellipsis; \">20:121500</td><td style=\"white-space: nowrap; max-width: 500px; overflow: hidden; text-overflow: ellipsis; \">[&quot;CT&quot;,&quot;C&quot;]</td><td style=\"white-space: nowrap; max-width: 500px; overflow: hidden; text-overflow: ellipsis; \">0/0</td><td style=\"white-space: nowrap; max-width: 500px; overflow: hidden; text-overflow: ellipsis; \">0/1</td><td style=\"white-space: nowrap; max-width: 500px; overflow: hidden; text-overflow: ellipsis; \">0/0</td></tr>\n",
       "<tr><td style=\"white-space: nowrap; max-width: 500px; overflow: hidden; text-overflow: ellipsis; \">20:121824</td><td style=\"white-space: nowrap; max-width: 500px; overflow: hidden; text-overflow: ellipsis; \">[&quot;C&quot;,&quot;T&quot;]</td><td style=\"white-space: nowrap; max-width: 500px; overflow: hidden; text-overflow: ellipsis; \">0/0</td><td style=\"white-space: nowrap; max-width: 500px; overflow: hidden; text-overflow: ellipsis; \">0/1</td><td style=\"white-space: nowrap; max-width: 500px; overflow: hidden; text-overflow: ellipsis; \">0/0</td></tr>\n",
       "<tr><td style=\"white-space: nowrap; max-width: 500px; overflow: hidden; text-overflow: ellipsis; \">20:121976</td><td style=\"white-space: nowrap; max-width: 500px; overflow: hidden; text-overflow: ellipsis; \">[&quot;G&quot;,&quot;A&quot;]</td><td style=\"white-space: nowrap; max-width: 500px; overflow: hidden; text-overflow: ellipsis; \">0/0</td><td style=\"white-space: nowrap; max-width: 500px; overflow: hidden; text-overflow: ellipsis; \">0/1</td><td style=\"white-space: nowrap; max-width: 500px; overflow: hidden; text-overflow: ellipsis; \">0/0</td></tr>\n",
       "<tr><td style=\"white-space: nowrap; max-width: 500px; overflow: hidden; text-overflow: ellipsis; \">20:122275</td><td style=\"white-space: nowrap; max-width: 500px; overflow: hidden; text-overflow: ellipsis; \">[&quot;GA&quot;,&quot;G&quot;]</td><td style=\"white-space: nowrap; max-width: 500px; overflow: hidden; text-overflow: ellipsis; \">0/0</td><td style=\"white-space: nowrap; max-width: 500px; overflow: hidden; text-overflow: ellipsis; \">0/1</td><td style=\"white-space: nowrap; max-width: 500px; overflow: hidden; text-overflow: ellipsis; \">0/0</td></tr>\n",
       "<tr><td style=\"white-space: nowrap; max-width: 500px; overflow: hidden; text-overflow: ellipsis; \">20:122508</td><td style=\"white-space: nowrap; max-width: 500px; overflow: hidden; text-overflow: ellipsis; \">[&quot;G&quot;,&quot;A&quot;]</td><td style=\"white-space: nowrap; max-width: 500px; overflow: hidden; text-overflow: ellipsis; \">0/0</td><td style=\"white-space: nowrap; max-width: 500px; overflow: hidden; text-overflow: ellipsis; \">0/1</td><td style=\"white-space: nowrap; max-width: 500px; overflow: hidden; text-overflow: ellipsis; \">0/0</td></tr>\n",
       "<tr><td style=\"white-space: nowrap; max-width: 500px; overflow: hidden; text-overflow: ellipsis; \">20:122806</td><td style=\"white-space: nowrap; max-width: 500px; overflow: hidden; text-overflow: ellipsis; \">[&quot;T&quot;,&quot;TTA&quot;]</td><td style=\"white-space: nowrap; max-width: 500px; overflow: hidden; text-overflow: ellipsis; \">0/0</td><td style=\"white-space: nowrap; max-width: 500px; overflow: hidden; text-overflow: ellipsis; \">0/1</td><td style=\"white-space: nowrap; max-width: 500px; overflow: hidden; text-overflow: ellipsis; \">0/0</td></tr>\n",
       "<tr><td style=\"white-space: nowrap; max-width: 500px; overflow: hidden; text-overflow: ellipsis; \">20:123651</td><td style=\"white-space: nowrap; max-width: 500px; overflow: hidden; text-overflow: ellipsis; \">[&quot;G&quot;,&quot;GT&quot;]</td><td style=\"white-space: nowrap; max-width: 500px; overflow: hidden; text-overflow: ellipsis; \">1/1</td><td style=\"white-space: nowrap; max-width: 500px; overflow: hidden; text-overflow: ellipsis; \">0/0</td><td style=\"white-space: nowrap; max-width: 500px; overflow: hidden; text-overflow: ellipsis; \">0/1</td></tr>\n",
       "<tr><td style=\"white-space: nowrap; max-width: 500px; overflow: hidden; text-overflow: ellipsis; \">20:124302</td><td style=\"white-space: nowrap; max-width: 500px; overflow: hidden; text-overflow: ellipsis; \">[&quot;A&quot;,&quot;C&quot;]</td><td style=\"white-space: nowrap; max-width: 500px; overflow: hidden; text-overflow: ellipsis; \">0/0</td><td style=\"white-space: nowrap; max-width: 500px; overflow: hidden; text-overflow: ellipsis; \">0/1</td><td style=\"white-space: nowrap; max-width: 500px; overflow: hidden; text-overflow: ellipsis; \">0/0</td></tr>\n",
       "<tr><td style=\"white-space: nowrap; max-width: 500px; overflow: hidden; text-overflow: ellipsis; \">20:124412</td><td style=\"white-space: nowrap; max-width: 500px; overflow: hidden; text-overflow: ellipsis; \">[&quot;C&quot;,&quot;T&quot;]</td><td style=\"white-space: nowrap; max-width: 500px; overflow: hidden; text-overflow: ellipsis; \">0/0</td><td style=\"white-space: nowrap; max-width: 500px; overflow: hidden; text-overflow: ellipsis; \">0/1</td><td style=\"white-space: nowrap; max-width: 500px; overflow: hidden; text-overflow: ellipsis; \">0/0</td></tr>\n",
       "<tr><td style=\"white-space: nowrap; max-width: 500px; overflow: hidden; text-overflow: ellipsis; \">20:125538</td><td style=\"white-space: nowrap; max-width: 500px; overflow: hidden; text-overflow: ellipsis; \">[&quot;G&quot;,&quot;C&quot;]</td><td style=\"white-space: nowrap; max-width: 500px; overflow: hidden; text-overflow: ellipsis; \">0/0</td><td style=\"white-space: nowrap; max-width: 500px; overflow: hidden; text-overflow: ellipsis; \">0/1</td><td style=\"white-space: nowrap; max-width: 500px; overflow: hidden; text-overflow: ellipsis; \">0/0</td></tr>\n",
       "<tr><td style=\"white-space: nowrap; max-width: 500px; overflow: hidden; text-overflow: ellipsis; \">20:126155</td><td style=\"white-space: nowrap; max-width: 500px; overflow: hidden; text-overflow: ellipsis; \">[&quot;GCAAA&quot;,&quot;G&quot;]</td><td style=\"white-space: nowrap; max-width: 500px; overflow: hidden; text-overflow: ellipsis; \">0/0</td><td style=\"white-space: nowrap; max-width: 500px; overflow: hidden; text-overflow: ellipsis; \">0/1</td><td style=\"white-space: nowrap; max-width: 500px; overflow: hidden; text-overflow: ellipsis; \">0/0</td></tr>\n",
       "<tr><td style=\"white-space: nowrap; max-width: 500px; overflow: hidden; text-overflow: ellipsis; \">20:126310</td><td style=\"white-space: nowrap; max-width: 500px; overflow: hidden; text-overflow: ellipsis; \">[&quot;ACC&quot;,&quot;A&quot;]</td><td style=\"white-space: nowrap; max-width: 500px; overflow: hidden; text-overflow: ellipsis; \">0/0</td><td style=\"white-space: nowrap; max-width: 500px; overflow: hidden; text-overflow: ellipsis; \">1/1</td><td style=\"white-space: nowrap; max-width: 500px; overflow: hidden; text-overflow: ellipsis; \">0/1</td></tr>\n",
       "<tr><td style=\"white-space: nowrap; max-width: 500px; overflow: hidden; text-overflow: ellipsis; \">20:126529</td><td style=\"white-space: nowrap; max-width: 500px; overflow: hidden; text-overflow: ellipsis; \">[&quot;G&quot;,&quot;A&quot;]</td><td style=\"white-space: nowrap; max-width: 500px; overflow: hidden; text-overflow: ellipsis; \">0/1</td><td style=\"white-space: nowrap; max-width: 500px; overflow: hidden; text-overflow: ellipsis; \">0/1</td><td style=\"white-space: nowrap; max-width: 500px; overflow: hidden; text-overflow: ellipsis; \">0/0</td></tr>\n",
       "<tr><td style=\"white-space: nowrap; max-width: 500px; overflow: hidden; text-overflow: ellipsis; \">20:126600</td><td style=\"white-space: nowrap; max-width: 500px; overflow: hidden; text-overflow: ellipsis; \">[&quot;C&quot;,&quot;A&quot;]</td><td style=\"white-space: nowrap; max-width: 500px; overflow: hidden; text-overflow: ellipsis; \">0/1</td><td style=\"white-space: nowrap; max-width: 500px; overflow: hidden; text-overflow: ellipsis; \">0/1</td><td style=\"white-space: nowrap; max-width: 500px; overflow: hidden; text-overflow: ellipsis; \">0/0</td></tr>\n",
       "<tr><td style=\"white-space: nowrap; max-width: 500px; overflow: hidden; text-overflow: ellipsis; \">20:126614</td><td style=\"white-space: nowrap; max-width: 500px; overflow: hidden; text-overflow: ellipsis; \">[&quot;T&quot;,&quot;C&quot;]</td><td style=\"white-space: nowrap; max-width: 500px; overflow: hidden; text-overflow: ellipsis; \">0/1</td><td style=\"white-space: nowrap; max-width: 500px; overflow: hidden; text-overflow: ellipsis; \">0/1</td><td style=\"white-space: nowrap; max-width: 500px; overflow: hidden; text-overflow: ellipsis; \">0/0</td></tr>\n",
       "<tr><td style=\"white-space: nowrap; max-width: 500px; overflow: hidden; text-overflow: ellipsis; \">20:126730</td><td style=\"white-space: nowrap; max-width: 500px; overflow: hidden; text-overflow: ellipsis; \">[&quot;C&quot;,&quot;T&quot;]</td><td style=\"white-space: nowrap; max-width: 500px; overflow: hidden; text-overflow: ellipsis; \">0/1</td><td style=\"white-space: nowrap; max-width: 500px; overflow: hidden; text-overflow: ellipsis; \">0/1</td><td style=\"white-space: nowrap; max-width: 500px; overflow: hidden; text-overflow: ellipsis; \">0/0</td></tr>\n",
       "<tr><td style=\"white-space: nowrap; max-width: 500px; overflow: hidden; text-overflow: ellipsis; \">20:126760</td><td style=\"white-space: nowrap; max-width: 500px; overflow: hidden; text-overflow: ellipsis; \">[&quot;C&quot;,&quot;T&quot;]</td><td style=\"white-space: nowrap; max-width: 500px; overflow: hidden; text-overflow: ellipsis; \">0/1</td><td style=\"white-space: nowrap; max-width: 500px; overflow: hidden; text-overflow: ellipsis; \">0/1</td><td style=\"white-space: nowrap; max-width: 500px; overflow: hidden; text-overflow: ellipsis; \">0/0</td></tr>\n",
       "<tr><td style=\"white-space: nowrap; max-width: 500px; overflow: hidden; text-overflow: ellipsis; \">20:126923</td><td style=\"white-space: nowrap; max-width: 500px; overflow: hidden; text-overflow: ellipsis; \">[&quot;C&quot;,&quot;A&quot;]</td><td style=\"white-space: nowrap; max-width: 500px; overflow: hidden; text-overflow: ellipsis; \">0|1</td><td style=\"white-space: nowrap; max-width: 500px; overflow: hidden; text-overflow: ellipsis; \">0|1</td><td style=\"white-space: nowrap; max-width: 500px; overflow: hidden; text-overflow: ellipsis; \">0/0</td></tr>\n",
       "<tr><td style=\"white-space: nowrap; max-width: 500px; overflow: hidden; text-overflow: ellipsis; \">20:126930</td><td style=\"white-space: nowrap; max-width: 500px; overflow: hidden; text-overflow: ellipsis; \">[&quot;A&quot;,&quot;T&quot;]</td><td style=\"white-space: nowrap; max-width: 500px; overflow: hidden; text-overflow: ellipsis; \">0|1</td><td style=\"white-space: nowrap; max-width: 500px; overflow: hidden; text-overflow: ellipsis; \">0|1</td><td style=\"white-space: nowrap; max-width: 500px; overflow: hidden; text-overflow: ellipsis; \">0/0</td></tr>\n",
       "<tr><td style=\"white-space: nowrap; max-width: 500px; overflow: hidden; text-overflow: ellipsis; \">20:127720</td><td style=\"white-space: nowrap; max-width: 500px; overflow: hidden; text-overflow: ellipsis; \">[&quot;A&quot;,&quot;C&quot;]</td><td style=\"white-space: nowrap; max-width: 500px; overflow: hidden; text-overflow: ellipsis; \">0/1</td><td style=\"white-space: nowrap; max-width: 500px; overflow: hidden; text-overflow: ellipsis; \">0/1</td><td style=\"white-space: nowrap; max-width: 500px; overflow: hidden; text-overflow: ellipsis; \">0/0</td></tr>\n",
       "<tr><td style=\"white-space: nowrap; max-width: 500px; overflow: hidden; text-overflow: ellipsis; \">20:127952</td><td style=\"white-space: nowrap; max-width: 500px; overflow: hidden; text-overflow: ellipsis; \">[&quot;C&quot;,&quot;T&quot;]</td><td style=\"white-space: nowrap; max-width: 500px; overflow: hidden; text-overflow: ellipsis; \">0/1</td><td style=\"white-space: nowrap; max-width: 500px; overflow: hidden; text-overflow: ellipsis; \">0/1</td><td style=\"white-space: nowrap; max-width: 500px; overflow: hidden; text-overflow: ellipsis; \">1/1</td></tr>\n",
       "<tr><td style=\"white-space: nowrap; max-width: 500px; overflow: hidden; text-overflow: ellipsis; \">20:128713</td><td style=\"white-space: nowrap; max-width: 500px; overflow: hidden; text-overflow: ellipsis; \">[&quot;C&quot;,&quot;G&quot;]</td><td style=\"white-space: nowrap; max-width: 500px; overflow: hidden; text-overflow: ellipsis; \">0/1</td><td style=\"white-space: nowrap; max-width: 500px; overflow: hidden; text-overflow: ellipsis; \">0/1</td><td style=\"white-space: nowrap; max-width: 500px; overflow: hidden; text-overflow: ellipsis; \">0/0</td></tr>\n",
       "<tr><td style=\"white-space: nowrap; max-width: 500px; overflow: hidden; text-overflow: ellipsis; \">20:128863</td><td style=\"white-space: nowrap; max-width: 500px; overflow: hidden; text-overflow: ellipsis; \">[&quot;G&quot;,&quot;C&quot;]</td><td style=\"white-space: nowrap; max-width: 500px; overflow: hidden; text-overflow: ellipsis; \">0/1</td><td style=\"white-space: nowrap; max-width: 500px; overflow: hidden; text-overflow: ellipsis; \">0/1</td><td style=\"white-space: nowrap; max-width: 500px; overflow: hidden; text-overflow: ellipsis; \">1/1</td></tr>\n",
       "<tr><td style=\"white-space: nowrap; max-width: 500px; overflow: hidden; text-overflow: ellipsis; \">20:129063</td><td style=\"white-space: nowrap; max-width: 500px; overflow: hidden; text-overflow: ellipsis; \">[&quot;A&quot;,&quot;G&quot;]</td><td style=\"white-space: nowrap; max-width: 500px; overflow: hidden; text-overflow: ellipsis; \">0/1</td><td style=\"white-space: nowrap; max-width: 500px; overflow: hidden; text-overflow: ellipsis; \">0/1</td><td style=\"white-space: nowrap; max-width: 500px; overflow: hidden; text-overflow: ellipsis; \">1/1</td></tr>\n",
       "<tr><td style=\"white-space: nowrap; max-width: 500px; overflow: hidden; text-overflow: ellipsis; \">20:129613</td><td style=\"white-space: nowrap; max-width: 500px; overflow: hidden; text-overflow: ellipsis; \">[&quot;G&quot;,&quot;A&quot;]</td><td style=\"white-space: nowrap; max-width: 500px; overflow: hidden; text-overflow: ellipsis; \">1/1</td><td style=\"white-space: nowrap; max-width: 500px; overflow: hidden; text-overflow: ellipsis; \">1/1</td><td style=\"white-space: nowrap; max-width: 500px; overflow: hidden; text-overflow: ellipsis; \">1/1</td></tr>\n",
       "<tr><td style=\"white-space: nowrap; max-width: 500px; overflow: hidden; text-overflow: ellipsis; \">20:129864</td><td style=\"white-space: nowrap; max-width: 500px; overflow: hidden; text-overflow: ellipsis; \">[&quot;C&quot;,&quot;T&quot;]</td><td style=\"white-space: nowrap; max-width: 500px; overflow: hidden; text-overflow: ellipsis; \">0/1</td><td style=\"white-space: nowrap; max-width: 500px; overflow: hidden; text-overflow: ellipsis; \">0/1</td><td style=\"white-space: nowrap; max-width: 500px; overflow: hidden; text-overflow: ellipsis; \">0/0</td></tr>\n",
       "</tbody></table><p style=\"background: #fdd; padding: 0.4em;\">showing top 100 rows</p>\n"
      ],
      "text/plain": [
       "+---------------+-------------------------+--------------+--------------+\n",
       "| locus         | alleles                 | 'HG00731'.GT | 'HG00732'.GT |\n",
       "+---------------+-------------------------+--------------+--------------+\n",
       "| locus<GRCh37> | array<str>              | call         | call         |\n",
       "+---------------+-------------------------+--------------+--------------+\n",
       "| 20:65900      | [\"G\",\"A\"]               | 1/1          | 1/1          |\n",
       "| 20:66370      | [\"G\",\"A\"]               | 1/1          | 1/1          |\n",
       "| 20:67500      | [\"T\",\"TTGGTATCTAG\"]     | 1/1          | 1/1          |\n",
       "| 20:68749      | [\"T\",\"C\"]               | 0/1          | 0/1          |\n",
       "| 20:69094      | [\"G\",\"A\"]               | 0/1          | 0/1          |\n",
       "| 20:69481      | [\"CT\",\"C\"]              | 0/0          | 0/1          |\n",
       "| 20:69506      | [\"G\",\"GACACAC\",\"GACAC\"] | 0/1          | 1/2          |\n",
       "| 20:72104      | [\"TA\",\"T\"]              | 0/0          | 0/1          |\n",
       "| 20:74347      | [\"G\",\"A\"]               | 0/1          | 0/0          |\n",
       "| 20:74729      | [\"G\",\"GT\"]              | 0/0          | 0/1          |\n",
       "| 20:75254      | [\"C\",\"A\"]               | 0/0          | 0/1          |\n",
       "| 20:76962      | [\"T\",\"C\"]               | 0/1          | 0/1          |\n",
       "| 20:77816      | [\"G\",\"A\"]               | 0/1          | 0/0          |\n",
       "| 20:77965      | [\"G\",\"GT\",\"GTT\"]        | 0/1          | 0/2          |\n",
       "| 20:79234      | [\"T\",\"C\"]               | 0/0          | 0|1          |\n",
       "| 20:80071      | [\"G\",\"A\"]               | 0/0          | 0/1          |\n",
       "| 20:80655      | [\"A\",\"G\"]               | 1/1          | 1/1          |\n",
       "| 20:80728      | [\"C\",\"G\"]               | 0/1          | 0/0          |\n",
       "| 20:81936      | [\"G\",\"GTT\"]             | 0/0          | 0/1          |\n",
       "| 20:81982      | [\"A\",\"G\"]               | 0/0          | 0/1          |\n",
       "| 20:82012      | [\"T\",\"C\"]               | 0/1          | 0/1          |\n",
       "| 20:82139      | [\"A\",\"G\"]               | 0/0          | 0|1          |\n",
       "| 20:82146      | [\"A\",\"C\"]               | 0/0          | 0|1          |\n",
       "| 20:82217      | [\"G\",\"A\"]               | 1/1          | 0/1          |\n",
       "| 20:82701      | [\"T\",\"C\"]               | 0/0          | 0/1          |\n",
       "| 20:83252      | [\"G\",\"C\"]               | 0/0          | 0|1          |\n",
       "| 20:83254      | [\"G\",\"C\"]               | 0/0          | 0|1          |\n",
       "| 20:83256      | [\"G\",\"C\"]               | 0/0          | 0|1          |\n",
       "| 20:86164      | [\"AG\",\"A\"]              | 0/0          | 0/1          |\n",
       "| 20:87263      | [\"GA\",\"G\"]              | 0/0          | 0/1          |\n",
       "| 20:87416      | [\"A\",\"C\"]               | 0/1          | 0/1          |\n",
       "| 20:87790      | [\"C\",\"T\"]               | 0/1          | 0/0          |\n",
       "| 20:88155      | [\"T\",\"C\"]               | 0/1          | 0/0          |\n",
       "| 20:88827      | [\"C\",\"A\"]               | 0/0          | 0/1          |\n",
       "| 20:90008      | [\"C\",\"A\"]               | 0/1          | 0/0          |\n",
       "| 20:90984      | [\"A\",\"G\"]               | 0/0          | 0/1          |\n",
       "| 20:91088      | [\"C\",\"T\"]               | 1/1          | 0/1          |\n",
       "| 20:91346      | [\"G\",\"A\"]               | 0/0          | 0/1          |\n",
       "| 20:91508      | [\"G\",\"A\"]               | 1/1          | 0/1          |\n",
       "| 20:92527      | [\"A\",\"G\"]               | 1/1          | 0/1          |\n",
       "| 20:93440      | [\"A\",\"G\"]               | 0/0          | 0/1          |\n",
       "| 20:93931      | [\"G\",\"A\"]               | 0/0          | 0/1          |\n",
       "| 20:96497      | [\"C\",\"G\"]               | 0/1          | 0/0          |\n",
       "| 20:100699     | [\"C\",\"T\"]               | 0/0          | 0/1          |\n",
       "| 20:101362     | [\"G\",\"A\"]               | 0/1          | 0/0          |\n",
       "| 20:101599     | [\"TA\",\"T\"]              | 0/0          | 0/1          |\n",
       "| 20:102181     | [\"T\",\"C\"]               | 0/0          | 0/1          |\n",
       "| 20:102799     | [\"G\",\"A\"]               | 0/0          | 0/1          |\n",
       "| 20:103517     | [\"A\",\"T\"]               | 0/0          | 0/1          |\n",
       "| 20:104899     | [\"C\",\"T\"]               | 0/0          | 0/1          |\n",
       "| 20:105024     | [\"AT\",\"A\"]              | 0/0          | 0/1          |\n",
       "| 20:106635     | [\"G\",\"A\"]               | 0/0          | 0/1          |\n",
       "| 20:106703     | [\"C\",\"CT\",\"CTTT\"]       | 0/1          | 1/2          |\n",
       "| 20:108286     | [\"T\",\"G\"]               | 0/0          | 0/1          |\n",
       "| 20:108328     | [\"A\",\"C\"]               | 1/1          | 0/1          |\n",
       "| 20:109179     | [\"C\",\"T\"]               | 0/0          | 0|1          |\n",
       "| 20:110058     | [\"G\",\"C\"]               | 0/0          | 0/1          |\n",
       "| 20:110098     | [\"A\",\"G\"]               | 0/0          | 0/1          |\n",
       "| 20:110702     | [\"C\",\"T\"]               | 0/0          | 0/1          |\n",
       "| 20:110761     | [\"G\",\"A\"]               | 0/0          | 0/1          |\n",
       "| 20:110979     | [\"A\",\"C\",\"G\"]           | 1|1          | 0/2          |\n",
       "| 20:110980     | [\"T\",\"C\"]               | 1|1          | 0/0          |\n",
       "| 20:112877     | [\"C\",\"T\"]               | 0/1          | 0/0          |\n",
       "| 20:114916     | [\"G\",\"A\"]               | 0/0          | 0/0          |\n",
       "| 20:116405     | [\"G\",\"A\"]               | 0/0          | 0/1          |\n",
       "| 20:116787     | [\"A\",\"G\"]               | 0/0          | 0/1          |\n",
       "| 20:117309     | [\"G\",\"GCAGGATTTCAT\"]    | 0/0          | 0/1          |\n",
       "| 20:119645     | [\"G\",\"GT\"]              | 0/0          | 0/1          |\n",
       "| 20:120122     | [\"A\",\"AAG\"]             | 1/1          | 0/1          |\n",
       "| 20:120471     | [\"A\",\"G\"]               | 0/0          | 0/1          |\n",
       "| 20:120750     | [\"C\",\"CAATT\"]           | 1/1          | 0/1          |\n",
       "| 20:121310     | [\"A\",\"C\"]               | 0/0          | 0/1          |\n",
       "| 20:121478     | [\"C\",\"A\"]               | 0/0          | 0/1          |\n",
       "| 20:121479     | [\"G\",\"GT\"]              | 0/1          | 0/0          |\n",
       "| 20:121500     | [\"CT\",\"C\"]              | 0/0          | 0/1          |\n",
       "| 20:121824     | [\"C\",\"T\"]               | 0/0          | 0/1          |\n",
       "| 20:121976     | [\"G\",\"A\"]               | 0/0          | 0/1          |\n",
       "| 20:122275     | [\"GA\",\"G\"]              | 0/0          | 0/1          |\n",
       "| 20:122508     | [\"G\",\"A\"]               | 0/0          | 0/1          |\n",
       "| 20:122806     | [\"T\",\"TTA\"]             | 0/0          | 0/1          |\n",
       "| 20:123651     | [\"G\",\"GT\"]              | 1/1          | 0/0          |\n",
       "| 20:124302     | [\"A\",\"C\"]               | 0/0          | 0/1          |\n",
       "| 20:124412     | [\"C\",\"T\"]               | 0/0          | 0/1          |\n",
       "| 20:125538     | [\"G\",\"C\"]               | 0/0          | 0/1          |\n",
       "| 20:126155     | [\"GCAAA\",\"G\"]           | 0/0          | 0/1          |\n",
       "| 20:126310     | [\"ACC\",\"A\"]             | 0/0          | 1/1          |\n",
       "| 20:126529     | [\"G\",\"A\"]               | 0/1          | 0/1          |\n",
       "| 20:126600     | [\"C\",\"A\"]               | 0/1          | 0/1          |\n",
       "| 20:126614     | [\"T\",\"C\"]               | 0/1          | 0/1          |\n",
       "| 20:126730     | [\"C\",\"T\"]               | 0/1          | 0/1          |\n",
       "| 20:126760     | [\"C\",\"T\"]               | 0/1          | 0/1          |\n",
       "| 20:126923     | [\"C\",\"A\"]               | 0|1          | 0|1          |\n",
       "| 20:126930     | [\"A\",\"T\"]               | 0|1          | 0|1          |\n",
       "| 20:127720     | [\"A\",\"C\"]               | 0/1          | 0/1          |\n",
       "| 20:127952     | [\"C\",\"T\"]               | 0/1          | 0/1          |\n",
       "| 20:128713     | [\"C\",\"G\"]               | 0/1          | 0/1          |\n",
       "| 20:128863     | [\"G\",\"C\"]               | 0/1          | 0/1          |\n",
       "| 20:129063     | [\"A\",\"G\"]               | 0/1          | 0/1          |\n",
       "| 20:129613     | [\"G\",\"A\"]               | 1/1          | 1/1          |\n",
       "| 20:129864     | [\"C\",\"T\"]               | 0/1          | 0/1          |\n",
       "+---------------+-------------------------+--------------+--------------+\n",
       "\n",
       "+--------------+\n",
       "| 'HG00733'.GT |\n",
       "+--------------+\n",
       "| call         |\n",
       "+--------------+\n",
       "| 1/1          |\n",
       "| 1/1          |\n",
       "| 1/1          |\n",
       "| 1/1          |\n",
       "| 0/1          |\n",
       "| 0/0          |\n",
       "| 0/1          |\n",
       "| 0/0          |\n",
       "| 0/0          |\n",
       "| 0/0          |\n",
       "| 0/0          |\n",
       "| 0/0          |\n",
       "| 0/0          |\n",
       "| 0/0          |\n",
       "| 0/0          |\n",
       "| 0/0          |\n",
       "| 1/1          |\n",
       "| 0/0          |\n",
       "| 0/0          |\n",
       "| 0/1          |\n",
       "| 0/0          |\n",
       "| 0|1          |\n",
       "| 0|1          |\n",
       "| 0/1          |\n",
       "| 0/0          |\n",
       "| 0|1          |\n",
       "| 0|1          |\n",
       "| 0|1          |\n",
       "| 0/0          |\n",
       "| 0/0          |\n",
       "| 0/1          |\n",
       "| 0/1          |\n",
       "| 0/1          |\n",
       "| 0/0          |\n",
       "| 0/0          |\n",
       "| 0/0          |\n",
       "| 0/1          |\n",
       "| 0/0          |\n",
       "| 0/1          |\n",
       "| 0/1          |\n",
       "| 0/0          |\n",
       "| 0/0          |\n",
       "| 0/1          |\n",
       "| 0/0          |\n",
       "| 0/0          |\n",
       "| 0/1          |\n",
       "| 0/0          |\n",
       "| 0/0          |\n",
       "| 0/0          |\n",
       "| 0/0          |\n",
       "| 0/0          |\n",
       "| 0/0          |\n",
       "| 1/1          |\n",
       "| 0/0          |\n",
       "| 0/1          |\n",
       "| 0/0          |\n",
       "| 0/0          |\n",
       "| 0/0          |\n",
       "| 0/0          |\n",
       "| 0/0          |\n",
       "| 0|1          |\n",
       "| 0|1          |\n",
       "| 0/0          |\n",
       "| 1/1          |\n",
       "| 0/0          |\n",
       "| 0/0          |\n",
       "| 0/0          |\n",
       "| 0/0          |\n",
       "| 0/1          |\n",
       "| 0/0          |\n",
       "| 0/1          |\n",
       "| 0/0          |\n",
       "| 0/0          |\n",
       "| 0/0          |\n",
       "| 0/0          |\n",
       "| 0/0          |\n",
       "| 0/0          |\n",
       "| 0/0          |\n",
       "| 0/0          |\n",
       "| 0/0          |\n",
       "| 0/1          |\n",
       "| 0/0          |\n",
       "| 0/0          |\n",
       "| 0/0          |\n",
       "| 0/0          |\n",
       "| 0/1          |\n",
       "| 0/0          |\n",
       "| 0/0          |\n",
       "| 0/0          |\n",
       "| 0/0          |\n",
       "| 0/0          |\n",
       "| 0/0          |\n",
       "| 0/0          |\n",
       "| 0/0          |\n",
       "| 1/1          |\n",
       "| 0/0          |\n",
       "| 1/1          |\n",
       "| 1/1          |\n",
       "| 1/1          |\n",
       "| 0/0          |\n",
       "+--------------+\n",
       "showing top 100 rows"
      ]
     },
     "metadata": {},
     "output_type": "display_data"
    }
   ],
   "source": [
    "mt.GT.show(n_rows=100)"
   ]
  },
  {
   "cell_type": "markdown",
   "metadata": {},
   "source": [
    "# Filter missing rows"
   ]
  },
  {
   "cell_type": "code",
   "execution_count": 13,
   "metadata": {},
   "outputs": [
    {
     "name": "stdout",
     "output_type": "stream",
     "text": [
      "Num NA rows dropped: 3\n"
     ]
    },
    {
     "data": {
      "text/html": [
       "<table><thead><tr><td style=\"white-space: nowrap; max-width: 500px; overflow: hidden; text-overflow: ellipsis; \" colspan=\"1\"><div style=\"text-align: left;\"></div></td><td style=\"white-space: nowrap; max-width: 500px; overflow: hidden; text-overflow: ellipsis; \" colspan=\"1\"><div style=\"text-align: left;\"></div></td><td style=\"white-space: nowrap; max-width: 500px; overflow: hidden; text-overflow: ellipsis; \" colspan=\"1\"><div style=\"text-align: left;\"></div></td><td style=\"white-space: nowrap; max-width: 500px; overflow: hidden; text-overflow: ellipsis; \" colspan=\"1\"><div style=\"text-align: left;\"></div></td><td style=\"white-space: nowrap; max-width: 500px; overflow: hidden; text-overflow: ellipsis; \" colspan=\"1\"><div style=\"text-align: left;\"></div></td></tr><tr><td style=\"white-space: nowrap; max-width: 500px; overflow: hidden; text-overflow: ellipsis; \" colspan=\"1\"><div style=\"text-align: left;\"></div></td><td style=\"white-space: nowrap; max-width: 500px; overflow: hidden; text-overflow: ellipsis; \" colspan=\"1\"><div style=\"text-align: left;\"></div></td><td style=\"white-space: nowrap; max-width: 500px; overflow: hidden; text-overflow: ellipsis; \" colspan=\"1\"><div style=\"text-align: left;border-bottom: solid 2px #000; padding-bottom: 5px\">'HG00731'</div></td><td style=\"white-space: nowrap; max-width: 500px; overflow: hidden; text-overflow: ellipsis; \" colspan=\"1\"><div style=\"text-align: left;border-bottom: solid 2px #000; padding-bottom: 5px\">'HG00732'</div></td><td style=\"white-space: nowrap; max-width: 500px; overflow: hidden; text-overflow: ellipsis; \" colspan=\"1\"><div style=\"text-align: left;border-bottom: solid 2px #000; padding-bottom: 5px\">'HG00733'</div></td></tr><tr><td style=\"white-space: nowrap; max-width: 500px; overflow: hidden; text-overflow: ellipsis; \" colspan=\"1\"><div style=\"text-align: left;border-bottom: solid 2px #000; padding-bottom: 5px\">locus</div></td><td style=\"white-space: nowrap; max-width: 500px; overflow: hidden; text-overflow: ellipsis; \" colspan=\"1\"><div style=\"text-align: left;border-bottom: solid 2px #000; padding-bottom: 5px\">alleles</div></td><td style=\"white-space: nowrap; max-width: 500px; overflow: hidden; text-overflow: ellipsis; \" colspan=\"1\"><div style=\"text-align: left;border-bottom: solid 2px #000; padding-bottom: 5px\">GT</div></td><td style=\"white-space: nowrap; max-width: 500px; overflow: hidden; text-overflow: ellipsis; \" colspan=\"1\"><div style=\"text-align: left;border-bottom: solid 2px #000; padding-bottom: 5px\">GT</div></td><td style=\"white-space: nowrap; max-width: 500px; overflow: hidden; text-overflow: ellipsis; \" colspan=\"1\"><div style=\"text-align: left;border-bottom: solid 2px #000; padding-bottom: 5px\">GT</div></td></tr><tr><td style=\"white-space: nowrap; max-width: 500px; overflow: hidden; text-overflow: ellipsis; text-align: left;\">locus&lt;GRCh37&gt;</td><td style=\"white-space: nowrap; max-width: 500px; overflow: hidden; text-overflow: ellipsis; text-align: left;\">array&lt;str&gt;</td><td style=\"white-space: nowrap; max-width: 500px; overflow: hidden; text-overflow: ellipsis; text-align: left;\">call</td><td style=\"white-space: nowrap; max-width: 500px; overflow: hidden; text-overflow: ellipsis; text-align: left;\">call</td><td style=\"white-space: nowrap; max-width: 500px; overflow: hidden; text-overflow: ellipsis; text-align: left;\">call</td></tr>\n",
       "</thead><tbody><tr><td style=\"white-space: nowrap; max-width: 500px; overflow: hidden; text-overflow: ellipsis; \">20:37584126</td><td style=\"white-space: nowrap; max-width: 500px; overflow: hidden; text-overflow: ellipsis; \">[&quot;AAAG&quot;,&quot;A&quot;]</td><td style=\"white-space: nowrap; max-width: 500px; overflow: hidden; text-overflow: ellipsis; \">NA</td><td style=\"white-space: nowrap; max-width: 500px; overflow: hidden; text-overflow: ellipsis; \">0/0</td><td style=\"white-space: nowrap; max-width: 500px; overflow: hidden; text-overflow: ellipsis; \">1/1</td></tr>\n",
       "<tr><td style=\"white-space: nowrap; max-width: 500px; overflow: hidden; text-overflow: ellipsis; \">20:44386269</td><td style=\"white-space: nowrap; max-width: 500px; overflow: hidden; text-overflow: ellipsis; \">[&quot;GTGTATATATATGCATATGTATGTATATATATC&quot;,&quot;G&quot;]</td><td style=\"white-space: nowrap; max-width: 500px; overflow: hidden; text-overflow: ellipsis; \">0/0</td><td style=\"white-space: nowrap; max-width: 500px; overflow: hidden; text-overflow: ellipsis; \">NA</td><td style=\"white-space: nowrap; max-width: 500px; overflow: hidden; text-overflow: ellipsis; \">1/1</td></tr>\n",
       "<tr><td style=\"white-space: nowrap; max-width: 500px; overflow: hidden; text-overflow: ellipsis; \">20:50252339</td><td style=\"white-space: nowrap; max-width: 500px; overflow: hidden; text-overflow: ellipsis; \">[&quot;A&quot;,&quot;AGGAG&quot;]</td><td style=\"white-space: nowrap; max-width: 500px; overflow: hidden; text-overflow: ellipsis; \">0/0</td><td style=\"white-space: nowrap; max-width: 500px; overflow: hidden; text-overflow: ellipsis; \">1|1</td><td style=\"white-space: nowrap; max-width: 500px; overflow: hidden; text-overflow: ellipsis; \">NA</td></tr>\n",
       "</tbody></table>"
      ],
      "text/plain": [
       "+---------------+-------------------------------------------+--------------+\n",
       "| locus         | alleles                                   | 'HG00731'.GT |\n",
       "+---------------+-------------------------------------------+--------------+\n",
       "| locus<GRCh37> | array<str>                                | call         |\n",
       "+---------------+-------------------------------------------+--------------+\n",
       "| 20:37584126   | [\"AAAG\",\"A\"]                              | NA           |\n",
       "| 20:44386269   | [\"GTGTATATATATGCATATGTATGTATATATATC\",\"G\"] | 0/0          |\n",
       "| 20:50252339   | [\"A\",\"AGGAG\"]                             | 0/0          |\n",
       "+---------------+-------------------------------------------+--------------+\n",
       "\n",
       "+--------------+--------------+\n",
       "| 'HG00732'.GT | 'HG00733'.GT |\n",
       "+--------------+--------------+\n",
       "| call         | call         |\n",
       "+--------------+--------------+\n",
       "| 0/0          | 1/1          |\n",
       "| NA           | 1/1          |\n",
       "| 1|1          | NA           |\n",
       "+--------------+--------------+"
      ]
     },
     "metadata": {},
     "output_type": "display_data"
    }
   ],
   "source": [
    "\n",
    "dataset = mt.filter_rows(hl.agg.any(hl.is_missing(mt.GT)) == False)\n",
    "print(f\"Num NA rows dropped: {mt.count()[0] - dataset.count()[0]}\")\n",
    "mt.filter_rows(hl.agg.any(hl.is_missing(mt.GT)) == True).GT.show()"
   ]
  },
  {
   "cell_type": "markdown",
   "metadata": {},
   "source": [
    "# Find known_sites where parents are both homozygous reference\n"
   ]
  },
  {
   "cell_type": "code",
   "execution_count": 14,
   "metadata": {},
   "outputs": [
    {
     "data": {
      "text/html": [
       "<table><thead><tr><td style=\"white-space: nowrap; max-width: 500px; overflow: hidden; text-overflow: ellipsis; \" colspan=\"1\"><div style=\"text-align: left;\"></div></td><td style=\"white-space: nowrap; max-width: 500px; overflow: hidden; text-overflow: ellipsis; \" colspan=\"1\"><div style=\"text-align: left;\"></div></td><td style=\"white-space: nowrap; max-width: 500px; overflow: hidden; text-overflow: ellipsis; \" colspan=\"1\"><div style=\"text-align: left;\"></div></td><td style=\"white-space: nowrap; max-width: 500px; overflow: hidden; text-overflow: ellipsis; \" colspan=\"1\"><div style=\"text-align: left;\"></div></td><td style=\"white-space: nowrap; max-width: 500px; overflow: hidden; text-overflow: ellipsis; \" colspan=\"1\"><div style=\"text-align: left;\"></div></td></tr><tr><td style=\"white-space: nowrap; max-width: 500px; overflow: hidden; text-overflow: ellipsis; \" colspan=\"1\"><div style=\"text-align: left;\"></div></td><td style=\"white-space: nowrap; max-width: 500px; overflow: hidden; text-overflow: ellipsis; \" colspan=\"1\"><div style=\"text-align: left;\"></div></td><td style=\"white-space: nowrap; max-width: 500px; overflow: hidden; text-overflow: ellipsis; \" colspan=\"1\"><div style=\"text-align: left;border-bottom: solid 2px #000; padding-bottom: 5px\">'HG00731'</div></td><td style=\"white-space: nowrap; max-width: 500px; overflow: hidden; text-overflow: ellipsis; \" colspan=\"1\"><div style=\"text-align: left;border-bottom: solid 2px #000; padding-bottom: 5px\">'HG00732'</div></td><td style=\"white-space: nowrap; max-width: 500px; overflow: hidden; text-overflow: ellipsis; \" colspan=\"1\"><div style=\"text-align: left;border-bottom: solid 2px #000; padding-bottom: 5px\">'HG00733'</div></td></tr><tr><td style=\"white-space: nowrap; max-width: 500px; overflow: hidden; text-overflow: ellipsis; \" colspan=\"1\"><div style=\"text-align: left;border-bottom: solid 2px #000; padding-bottom: 5px\">locus</div></td><td style=\"white-space: nowrap; max-width: 500px; overflow: hidden; text-overflow: ellipsis; \" colspan=\"1\"><div style=\"text-align: left;border-bottom: solid 2px #000; padding-bottom: 5px\">alleles</div></td><td style=\"white-space: nowrap; max-width: 500px; overflow: hidden; text-overflow: ellipsis; \" colspan=\"1\"><div style=\"text-align: left;border-bottom: solid 2px #000; padding-bottom: 5px\">GT</div></td><td style=\"white-space: nowrap; max-width: 500px; overflow: hidden; text-overflow: ellipsis; \" colspan=\"1\"><div style=\"text-align: left;border-bottom: solid 2px #000; padding-bottom: 5px\">GT</div></td><td style=\"white-space: nowrap; max-width: 500px; overflow: hidden; text-overflow: ellipsis; \" colspan=\"1\"><div style=\"text-align: left;border-bottom: solid 2px #000; padding-bottom: 5px\">GT</div></td></tr><tr><td style=\"white-space: nowrap; max-width: 500px; overflow: hidden; text-overflow: ellipsis; text-align: left;\">locus&lt;GRCh37&gt;</td><td style=\"white-space: nowrap; max-width: 500px; overflow: hidden; text-overflow: ellipsis; text-align: left;\">array&lt;str&gt;</td><td style=\"white-space: nowrap; max-width: 500px; overflow: hidden; text-overflow: ellipsis; text-align: left;\">call</td><td style=\"white-space: nowrap; max-width: 500px; overflow: hidden; text-overflow: ellipsis; text-align: left;\">call</td><td style=\"white-space: nowrap; max-width: 500px; overflow: hidden; text-overflow: ellipsis; text-align: left;\">call</td></tr>\n",
       "</thead><tbody><tr><td style=\"white-space: nowrap; max-width: 500px; overflow: hidden; text-overflow: ellipsis; \">20:114916</td><td style=\"white-space: nowrap; max-width: 500px; overflow: hidden; text-overflow: ellipsis; \">[&quot;G&quot;,&quot;A&quot;]</td><td style=\"white-space: nowrap; max-width: 500px; overflow: hidden; text-overflow: ellipsis; \">0/0</td><td style=\"white-space: nowrap; max-width: 500px; overflow: hidden; text-overflow: ellipsis; \">0/0</td><td style=\"white-space: nowrap; max-width: 500px; overflow: hidden; text-overflow: ellipsis; \">1/1</td></tr>\n",
       "<tr><td style=\"white-space: nowrap; max-width: 500px; overflow: hidden; text-overflow: ellipsis; \">20:142262</td><td style=\"white-space: nowrap; max-width: 500px; overflow: hidden; text-overflow: ellipsis; \">[&quot;C&quot;,&quot;G&quot;]</td><td style=\"white-space: nowrap; max-width: 500px; overflow: hidden; text-overflow: ellipsis; \">0/0</td><td style=\"white-space: nowrap; max-width: 500px; overflow: hidden; text-overflow: ellipsis; \">0/0</td><td style=\"white-space: nowrap; max-width: 500px; overflow: hidden; text-overflow: ellipsis; \">1|1</td></tr>\n",
       "<tr><td style=\"white-space: nowrap; max-width: 500px; overflow: hidden; text-overflow: ellipsis; \">20:142339</td><td style=\"white-space: nowrap; max-width: 500px; overflow: hidden; text-overflow: ellipsis; \">[&quot;T&quot;,&quot;C&quot;]</td><td style=\"white-space: nowrap; max-width: 500px; overflow: hidden; text-overflow: ellipsis; \">0/0</td><td style=\"white-space: nowrap; max-width: 500px; overflow: hidden; text-overflow: ellipsis; \">0/0</td><td style=\"white-space: nowrap; max-width: 500px; overflow: hidden; text-overflow: ellipsis; \">1/1</td></tr>\n",
       "<tr><td style=\"white-space: nowrap; max-width: 500px; overflow: hidden; text-overflow: ellipsis; \">20:221118</td><td style=\"white-space: nowrap; max-width: 500px; overflow: hidden; text-overflow: ellipsis; \">[&quot;G&quot;,&quot;GAAA&quot;]</td><td style=\"white-space: nowrap; max-width: 500px; overflow: hidden; text-overflow: ellipsis; \">0/0</td><td style=\"white-space: nowrap; max-width: 500px; overflow: hidden; text-overflow: ellipsis; \">0/0</td><td style=\"white-space: nowrap; max-width: 500px; overflow: hidden; text-overflow: ellipsis; \">0/1</td></tr>\n",
       "<tr><td style=\"white-space: nowrap; max-width: 500px; overflow: hidden; text-overflow: ellipsis; \">20:248667</td><td style=\"white-space: nowrap; max-width: 500px; overflow: hidden; text-overflow: ellipsis; \">[&quot;G&quot;,&quot;A&quot;]</td><td style=\"white-space: nowrap; max-width: 500px; overflow: hidden; text-overflow: ellipsis; \">0/0</td><td style=\"white-space: nowrap; max-width: 500px; overflow: hidden; text-overflow: ellipsis; \">0/0</td><td style=\"white-space: nowrap; max-width: 500px; overflow: hidden; text-overflow: ellipsis; \">0/1</td></tr>\n",
       "<tr><td style=\"white-space: nowrap; max-width: 500px; overflow: hidden; text-overflow: ellipsis; \">20:254517</td><td style=\"white-space: nowrap; max-width: 500px; overflow: hidden; text-overflow: ellipsis; \">[&quot;C&quot;,&quot;CAAGAA&quot;]</td><td style=\"white-space: nowrap; max-width: 500px; overflow: hidden; text-overflow: ellipsis; \">0/0</td><td style=\"white-space: nowrap; max-width: 500px; overflow: hidden; text-overflow: ellipsis; \">0/0</td><td style=\"white-space: nowrap; max-width: 500px; overflow: hidden; text-overflow: ellipsis; \">0|1</td></tr>\n",
       "<tr><td style=\"white-space: nowrap; max-width: 500px; overflow: hidden; text-overflow: ellipsis; \">20:259563</td><td style=\"white-space: nowrap; max-width: 500px; overflow: hidden; text-overflow: ellipsis; \">[&quot;C&quot;,&quot;A&quot;]</td><td style=\"white-space: nowrap; max-width: 500px; overflow: hidden; text-overflow: ellipsis; \">0/0</td><td style=\"white-space: nowrap; max-width: 500px; overflow: hidden; text-overflow: ellipsis; \">0/0</td><td style=\"white-space: nowrap; max-width: 500px; overflow: hidden; text-overflow: ellipsis; \">1/1</td></tr>\n",
       "<tr><td style=\"white-space: nowrap; max-width: 500px; overflow: hidden; text-overflow: ellipsis; \">20:259818</td><td style=\"white-space: nowrap; max-width: 500px; overflow: hidden; text-overflow: ellipsis; \">[&quot;G&quot;,&quot;A&quot;]</td><td style=\"white-space: nowrap; max-width: 500px; overflow: hidden; text-overflow: ellipsis; \">0/0</td><td style=\"white-space: nowrap; max-width: 500px; overflow: hidden; text-overflow: ellipsis; \">0/0</td><td style=\"white-space: nowrap; max-width: 500px; overflow: hidden; text-overflow: ellipsis; \">0/1</td></tr>\n",
       "<tr><td style=\"white-space: nowrap; max-width: 500px; overflow: hidden; text-overflow: ellipsis; \">20:261059</td><td style=\"white-space: nowrap; max-width: 500px; overflow: hidden; text-overflow: ellipsis; \">[&quot;C&quot;,&quot;T&quot;]</td><td style=\"white-space: nowrap; max-width: 500px; overflow: hidden; text-overflow: ellipsis; \">0/0</td><td style=\"white-space: nowrap; max-width: 500px; overflow: hidden; text-overflow: ellipsis; \">0/0</td><td style=\"white-space: nowrap; max-width: 500px; overflow: hidden; text-overflow: ellipsis; \">0/1</td></tr>\n",
       "<tr><td style=\"white-space: nowrap; max-width: 500px; overflow: hidden; text-overflow: ellipsis; \">20:285148</td><td style=\"white-space: nowrap; max-width: 500px; overflow: hidden; text-overflow: ellipsis; \">[&quot;CA&quot;,&quot;C&quot;]</td><td style=\"white-space: nowrap; max-width: 500px; overflow: hidden; text-overflow: ellipsis; \">0/0</td><td style=\"white-space: nowrap; max-width: 500px; overflow: hidden; text-overflow: ellipsis; \">0/0</td><td style=\"white-space: nowrap; max-width: 500px; overflow: hidden; text-overflow: ellipsis; \">0/1</td></tr>\n",
       "</tbody></table><p style=\"background: #fdd; padding: 0.4em;\">showing top 10 rows</p>\n"
      ],
      "text/plain": [
       "+---------------+----------------+--------------+--------------+--------------+\n",
       "| locus         | alleles        | 'HG00731'.GT | 'HG00732'.GT | 'HG00733'.GT |\n",
       "+---------------+----------------+--------------+--------------+--------------+\n",
       "| locus<GRCh37> | array<str>     | call         | call         | call         |\n",
       "+---------------+----------------+--------------+--------------+--------------+\n",
       "| 20:114916     | [\"G\",\"A\"]      | 0/0          | 0/0          | 1/1          |\n",
       "| 20:142262     | [\"C\",\"G\"]      | 0/0          | 0/0          | 1|1          |\n",
       "| 20:142339     | [\"T\",\"C\"]      | 0/0          | 0/0          | 1/1          |\n",
       "| 20:221118     | [\"G\",\"GAAA\"]   | 0/0          | 0/0          | 0/1          |\n",
       "| 20:248667     | [\"G\",\"A\"]      | 0/0          | 0/0          | 0/1          |\n",
       "| 20:254517     | [\"C\",\"CAAGAA\"] | 0/0          | 0/0          | 0|1          |\n",
       "| 20:259563     | [\"C\",\"A\"]      | 0/0          | 0/0          | 1/1          |\n",
       "| 20:259818     | [\"G\",\"A\"]      | 0/0          | 0/0          | 0/1          |\n",
       "| 20:261059     | [\"C\",\"T\"]      | 0/0          | 0/0          | 0/1          |\n",
       "| 20:285148     | [\"CA\",\"C\"]     | 0/0          | 0/0          | 0/1          |\n",
       "+---------------+----------------+--------------+--------------+--------------+\n",
       "showing top 10 rows"
      ]
     },
     "metadata": {},
     "output_type": "display_data"
    },
    {
     "name": "stdout",
     "output_type": "stream",
     "text": [
      "Percentage of total: 1.29%\n"
     ]
    }
   ],
   "source": [
    "parents_hom_ref = mt.filter_rows((hl.literal([True, True]) == hl.agg.collect(mt.GT.is_hom_ref())[0:2]) == True)\n",
    "\n",
    "parents_hom_ref.GT.show()\n",
    "print(f\"Percentage of total: {round(parents_hom_ref.count()[0]/mt.count()[0] * 100, 2)}%\")"
   ]
  },
  {
   "cell_type": "markdown",
   "metadata": {},
   "source": [
    "# Find known_sites where parents are both heterozygous\n"
   ]
  },
  {
   "cell_type": "code",
   "execution_count": 15,
   "metadata": {},
   "outputs": [
    {
     "data": {
      "text/html": [
       "<table><thead><tr><td style=\"white-space: nowrap; max-width: 500px; overflow: hidden; text-overflow: ellipsis; \" colspan=\"1\"><div style=\"text-align: left;\"></div></td><td style=\"white-space: nowrap; max-width: 500px; overflow: hidden; text-overflow: ellipsis; \" colspan=\"1\"><div style=\"text-align: left;\"></div></td><td style=\"white-space: nowrap; max-width: 500px; overflow: hidden; text-overflow: ellipsis; \" colspan=\"1\"><div style=\"text-align: left;\"></div></td><td style=\"white-space: nowrap; max-width: 500px; overflow: hidden; text-overflow: ellipsis; \" colspan=\"1\"><div style=\"text-align: left;\"></div></td><td style=\"white-space: nowrap; max-width: 500px; overflow: hidden; text-overflow: ellipsis; \" colspan=\"1\"><div style=\"text-align: left;\"></div></td></tr><tr><td style=\"white-space: nowrap; max-width: 500px; overflow: hidden; text-overflow: ellipsis; \" colspan=\"1\"><div style=\"text-align: left;\"></div></td><td style=\"white-space: nowrap; max-width: 500px; overflow: hidden; text-overflow: ellipsis; \" colspan=\"1\"><div style=\"text-align: left;\"></div></td><td style=\"white-space: nowrap; max-width: 500px; overflow: hidden; text-overflow: ellipsis; \" colspan=\"1\"><div style=\"text-align: left;border-bottom: solid 2px #000; padding-bottom: 5px\">'HG00731'</div></td><td style=\"white-space: nowrap; max-width: 500px; overflow: hidden; text-overflow: ellipsis; \" colspan=\"1\"><div style=\"text-align: left;border-bottom: solid 2px #000; padding-bottom: 5px\">'HG00732'</div></td><td style=\"white-space: nowrap; max-width: 500px; overflow: hidden; text-overflow: ellipsis; \" colspan=\"1\"><div style=\"text-align: left;border-bottom: solid 2px #000; padding-bottom: 5px\">'HG00733'</div></td></tr><tr><td style=\"white-space: nowrap; max-width: 500px; overflow: hidden; text-overflow: ellipsis; \" colspan=\"1\"><div style=\"text-align: left;border-bottom: solid 2px #000; padding-bottom: 5px\">locus</div></td><td style=\"white-space: nowrap; max-width: 500px; overflow: hidden; text-overflow: ellipsis; \" colspan=\"1\"><div style=\"text-align: left;border-bottom: solid 2px #000; padding-bottom: 5px\">alleles</div></td><td style=\"white-space: nowrap; max-width: 500px; overflow: hidden; text-overflow: ellipsis; \" colspan=\"1\"><div style=\"text-align: left;border-bottom: solid 2px #000; padding-bottom: 5px\">GT</div></td><td style=\"white-space: nowrap; max-width: 500px; overflow: hidden; text-overflow: ellipsis; \" colspan=\"1\"><div style=\"text-align: left;border-bottom: solid 2px #000; padding-bottom: 5px\">GT</div></td><td style=\"white-space: nowrap; max-width: 500px; overflow: hidden; text-overflow: ellipsis; \" colspan=\"1\"><div style=\"text-align: left;border-bottom: solid 2px #000; padding-bottom: 5px\">GT</div></td></tr><tr><td style=\"white-space: nowrap; max-width: 500px; overflow: hidden; text-overflow: ellipsis; text-align: left;\">locus&lt;GRCh37&gt;</td><td style=\"white-space: nowrap; max-width: 500px; overflow: hidden; text-overflow: ellipsis; text-align: left;\">array&lt;str&gt;</td><td style=\"white-space: nowrap; max-width: 500px; overflow: hidden; text-overflow: ellipsis; text-align: left;\">call</td><td style=\"white-space: nowrap; max-width: 500px; overflow: hidden; text-overflow: ellipsis; text-align: left;\">call</td><td style=\"white-space: nowrap; max-width: 500px; overflow: hidden; text-overflow: ellipsis; text-align: left;\">call</td></tr>\n",
       "</thead><tbody><tr><td style=\"white-space: nowrap; max-width: 500px; overflow: hidden; text-overflow: ellipsis; \">20:68749</td><td style=\"white-space: nowrap; max-width: 500px; overflow: hidden; text-overflow: ellipsis; \">[&quot;T&quot;,&quot;C&quot;]</td><td style=\"white-space: nowrap; max-width: 500px; overflow: hidden; text-overflow: ellipsis; \">0/1</td><td style=\"white-space: nowrap; max-width: 500px; overflow: hidden; text-overflow: ellipsis; \">0/1</td><td style=\"white-space: nowrap; max-width: 500px; overflow: hidden; text-overflow: ellipsis; \">1/1</td></tr>\n",
       "<tr><td style=\"white-space: nowrap; max-width: 500px; overflow: hidden; text-overflow: ellipsis; \">20:69094</td><td style=\"white-space: nowrap; max-width: 500px; overflow: hidden; text-overflow: ellipsis; \">[&quot;G&quot;,&quot;A&quot;]</td><td style=\"white-space: nowrap; max-width: 500px; overflow: hidden; text-overflow: ellipsis; \">0/1</td><td style=\"white-space: nowrap; max-width: 500px; overflow: hidden; text-overflow: ellipsis; \">0/1</td><td style=\"white-space: nowrap; max-width: 500px; overflow: hidden; text-overflow: ellipsis; \">0/1</td></tr>\n",
       "<tr><td style=\"white-space: nowrap; max-width: 500px; overflow: hidden; text-overflow: ellipsis; \">20:69506</td><td style=\"white-space: nowrap; max-width: 500px; overflow: hidden; text-overflow: ellipsis; \">[&quot;G&quot;,&quot;GACACAC&quot;,&quot;GACAC&quot;]</td><td style=\"white-space: nowrap; max-width: 500px; overflow: hidden; text-overflow: ellipsis; \">0/1</td><td style=\"white-space: nowrap; max-width: 500px; overflow: hidden; text-overflow: ellipsis; \">1/2</td><td style=\"white-space: nowrap; max-width: 500px; overflow: hidden; text-overflow: ellipsis; \">0/1</td></tr>\n",
       "<tr><td style=\"white-space: nowrap; max-width: 500px; overflow: hidden; text-overflow: ellipsis; \">20:76962</td><td style=\"white-space: nowrap; max-width: 500px; overflow: hidden; text-overflow: ellipsis; \">[&quot;T&quot;,&quot;C&quot;]</td><td style=\"white-space: nowrap; max-width: 500px; overflow: hidden; text-overflow: ellipsis; \">0/1</td><td style=\"white-space: nowrap; max-width: 500px; overflow: hidden; text-overflow: ellipsis; \">0/1</td><td style=\"white-space: nowrap; max-width: 500px; overflow: hidden; text-overflow: ellipsis; \">0/0</td></tr>\n",
       "<tr><td style=\"white-space: nowrap; max-width: 500px; overflow: hidden; text-overflow: ellipsis; \">20:77965</td><td style=\"white-space: nowrap; max-width: 500px; overflow: hidden; text-overflow: ellipsis; \">[&quot;G&quot;,&quot;GT&quot;,&quot;GTT&quot;]</td><td style=\"white-space: nowrap; max-width: 500px; overflow: hidden; text-overflow: ellipsis; \">0/1</td><td style=\"white-space: nowrap; max-width: 500px; overflow: hidden; text-overflow: ellipsis; \">0/2</td><td style=\"white-space: nowrap; max-width: 500px; overflow: hidden; text-overflow: ellipsis; \">0/0</td></tr>\n",
       "<tr><td style=\"white-space: nowrap; max-width: 500px; overflow: hidden; text-overflow: ellipsis; \">20:82012</td><td style=\"white-space: nowrap; max-width: 500px; overflow: hidden; text-overflow: ellipsis; \">[&quot;T&quot;,&quot;C&quot;]</td><td style=\"white-space: nowrap; max-width: 500px; overflow: hidden; text-overflow: ellipsis; \">0/1</td><td style=\"white-space: nowrap; max-width: 500px; overflow: hidden; text-overflow: ellipsis; \">0/1</td><td style=\"white-space: nowrap; max-width: 500px; overflow: hidden; text-overflow: ellipsis; \">0/0</td></tr>\n",
       "<tr><td style=\"white-space: nowrap; max-width: 500px; overflow: hidden; text-overflow: ellipsis; \">20:87416</td><td style=\"white-space: nowrap; max-width: 500px; overflow: hidden; text-overflow: ellipsis; \">[&quot;A&quot;,&quot;C&quot;]</td><td style=\"white-space: nowrap; max-width: 500px; overflow: hidden; text-overflow: ellipsis; \">0/1</td><td style=\"white-space: nowrap; max-width: 500px; overflow: hidden; text-overflow: ellipsis; \">0/1</td><td style=\"white-space: nowrap; max-width: 500px; overflow: hidden; text-overflow: ellipsis; \">0/1</td></tr>\n",
       "<tr><td style=\"white-space: nowrap; max-width: 500px; overflow: hidden; text-overflow: ellipsis; \">20:106703</td><td style=\"white-space: nowrap; max-width: 500px; overflow: hidden; text-overflow: ellipsis; \">[&quot;C&quot;,&quot;CT&quot;,&quot;CTTT&quot;]</td><td style=\"white-space: nowrap; max-width: 500px; overflow: hidden; text-overflow: ellipsis; \">0/1</td><td style=\"white-space: nowrap; max-width: 500px; overflow: hidden; text-overflow: ellipsis; \">1/2</td><td style=\"white-space: nowrap; max-width: 500px; overflow: hidden; text-overflow: ellipsis; \">1/1</td></tr>\n",
       "<tr><td style=\"white-space: nowrap; max-width: 500px; overflow: hidden; text-overflow: ellipsis; \">20:126529</td><td style=\"white-space: nowrap; max-width: 500px; overflow: hidden; text-overflow: ellipsis; \">[&quot;G&quot;,&quot;A&quot;]</td><td style=\"white-space: nowrap; max-width: 500px; overflow: hidden; text-overflow: ellipsis; \">0/1</td><td style=\"white-space: nowrap; max-width: 500px; overflow: hidden; text-overflow: ellipsis; \">0/1</td><td style=\"white-space: nowrap; max-width: 500px; overflow: hidden; text-overflow: ellipsis; \">0/0</td></tr>\n",
       "<tr><td style=\"white-space: nowrap; max-width: 500px; overflow: hidden; text-overflow: ellipsis; \">20:126600</td><td style=\"white-space: nowrap; max-width: 500px; overflow: hidden; text-overflow: ellipsis; \">[&quot;C&quot;,&quot;A&quot;]</td><td style=\"white-space: nowrap; max-width: 500px; overflow: hidden; text-overflow: ellipsis; \">0/1</td><td style=\"white-space: nowrap; max-width: 500px; overflow: hidden; text-overflow: ellipsis; \">0/1</td><td style=\"white-space: nowrap; max-width: 500px; overflow: hidden; text-overflow: ellipsis; \">0/0</td></tr>\n",
       "</tbody></table><p style=\"background: #fdd; padding: 0.4em;\">showing top 10 rows</p>\n"
      ],
      "text/plain": [
       "+---------------+-------------------------+--------------+--------------+\n",
       "| locus         | alleles                 | 'HG00731'.GT | 'HG00732'.GT |\n",
       "+---------------+-------------------------+--------------+--------------+\n",
       "| locus<GRCh37> | array<str>              | call         | call         |\n",
       "+---------------+-------------------------+--------------+--------------+\n",
       "| 20:68749      | [\"T\",\"C\"]               | 0/1          | 0/1          |\n",
       "| 20:69094      | [\"G\",\"A\"]               | 0/1          | 0/1          |\n",
       "| 20:69506      | [\"G\",\"GACACAC\",\"GACAC\"] | 0/1          | 1/2          |\n",
       "| 20:76962      | [\"T\",\"C\"]               | 0/1          | 0/1          |\n",
       "| 20:77965      | [\"G\",\"GT\",\"GTT\"]        | 0/1          | 0/2          |\n",
       "| 20:82012      | [\"T\",\"C\"]               | 0/1          | 0/1          |\n",
       "| 20:87416      | [\"A\",\"C\"]               | 0/1          | 0/1          |\n",
       "| 20:106703     | [\"C\",\"CT\",\"CTTT\"]       | 0/1          | 1/2          |\n",
       "| 20:126529     | [\"G\",\"A\"]               | 0/1          | 0/1          |\n",
       "| 20:126600     | [\"C\",\"A\"]               | 0/1          | 0/1          |\n",
       "+---------------+-------------------------+--------------+--------------+\n",
       "\n",
       "+--------------+\n",
       "| 'HG00733'.GT |\n",
       "+--------------+\n",
       "| call         |\n",
       "+--------------+\n",
       "| 1/1          |\n",
       "| 0/1          |\n",
       "| 0/1          |\n",
       "| 0/0          |\n",
       "| 0/0          |\n",
       "| 0/0          |\n",
       "| 0/1          |\n",
       "| 1/1          |\n",
       "| 0/0          |\n",
       "| 0/0          |\n",
       "+--------------+\n",
       "showing top 10 rows"
      ]
     },
     "metadata": {},
     "output_type": "display_data"
    },
    {
     "name": "stdout",
     "output_type": "stream",
     "text": [
      "Percentage of total: 17.52%\n"
     ]
    }
   ],
   "source": [
    "parents_het = mt.filter_rows((hl.literal([True, True]) == hl.agg.collect(mt.GT.is_het())[0:2]) == True)\n",
    "\n",
    "parents_het.GT.show()\n",
    "print(f\"Percentage of total: {round(parents_het.count()[0]/mt.count()[0] * 100, 2)}%\")"
   ]
  },
  {
   "cell_type": "markdown",
   "metadata": {},
   "source": [
    "# Sites where child is homozygous variant "
   ]
  },
  {
   "cell_type": "code",
   "execution_count": 16,
   "metadata": {},
   "outputs": [
    {
     "data": {
      "text/html": [
       "<table><thead><tr><td style=\"white-space: nowrap; max-width: 500px; overflow: hidden; text-overflow: ellipsis; \" colspan=\"1\"><div style=\"text-align: left;\"></div></td><td style=\"white-space: nowrap; max-width: 500px; overflow: hidden; text-overflow: ellipsis; \" colspan=\"1\"><div style=\"text-align: left;\"></div></td><td style=\"white-space: nowrap; max-width: 500px; overflow: hidden; text-overflow: ellipsis; \" colspan=\"1\"><div style=\"text-align: left;\"></div></td><td style=\"white-space: nowrap; max-width: 500px; overflow: hidden; text-overflow: ellipsis; \" colspan=\"1\"><div style=\"text-align: left;\"></div></td><td style=\"white-space: nowrap; max-width: 500px; overflow: hidden; text-overflow: ellipsis; \" colspan=\"1\"><div style=\"text-align: left;\"></div></td></tr><tr><td style=\"white-space: nowrap; max-width: 500px; overflow: hidden; text-overflow: ellipsis; \" colspan=\"1\"><div style=\"text-align: left;\"></div></td><td style=\"white-space: nowrap; max-width: 500px; overflow: hidden; text-overflow: ellipsis; \" colspan=\"1\"><div style=\"text-align: left;\"></div></td><td style=\"white-space: nowrap; max-width: 500px; overflow: hidden; text-overflow: ellipsis; \" colspan=\"1\"><div style=\"text-align: left;border-bottom: solid 2px #000; padding-bottom: 5px\">'HG00731'</div></td><td style=\"white-space: nowrap; max-width: 500px; overflow: hidden; text-overflow: ellipsis; \" colspan=\"1\"><div style=\"text-align: left;border-bottom: solid 2px #000; padding-bottom: 5px\">'HG00732'</div></td><td style=\"white-space: nowrap; max-width: 500px; overflow: hidden; text-overflow: ellipsis; \" colspan=\"1\"><div style=\"text-align: left;border-bottom: solid 2px #000; padding-bottom: 5px\">'HG00733'</div></td></tr><tr><td style=\"white-space: nowrap; max-width: 500px; overflow: hidden; text-overflow: ellipsis; \" colspan=\"1\"><div style=\"text-align: left;border-bottom: solid 2px #000; padding-bottom: 5px\">locus</div></td><td style=\"white-space: nowrap; max-width: 500px; overflow: hidden; text-overflow: ellipsis; \" colspan=\"1\"><div style=\"text-align: left;border-bottom: solid 2px #000; padding-bottom: 5px\">alleles</div></td><td style=\"white-space: nowrap; max-width: 500px; overflow: hidden; text-overflow: ellipsis; \" colspan=\"1\"><div style=\"text-align: left;border-bottom: solid 2px #000; padding-bottom: 5px\">GT</div></td><td style=\"white-space: nowrap; max-width: 500px; overflow: hidden; text-overflow: ellipsis; \" colspan=\"1\"><div style=\"text-align: left;border-bottom: solid 2px #000; padding-bottom: 5px\">GT</div></td><td style=\"white-space: nowrap; max-width: 500px; overflow: hidden; text-overflow: ellipsis; \" colspan=\"1\"><div style=\"text-align: left;border-bottom: solid 2px #000; padding-bottom: 5px\">GT</div></td></tr><tr><td style=\"white-space: nowrap; max-width: 500px; overflow: hidden; text-overflow: ellipsis; text-align: left;\">locus&lt;GRCh37&gt;</td><td style=\"white-space: nowrap; max-width: 500px; overflow: hidden; text-overflow: ellipsis; text-align: left;\">array&lt;str&gt;</td><td style=\"white-space: nowrap; max-width: 500px; overflow: hidden; text-overflow: ellipsis; text-align: left;\">call</td><td style=\"white-space: nowrap; max-width: 500px; overflow: hidden; text-overflow: ellipsis; text-align: left;\">call</td><td style=\"white-space: nowrap; max-width: 500px; overflow: hidden; text-overflow: ellipsis; text-align: left;\">call</td></tr>\n",
       "</thead><tbody><tr><td style=\"white-space: nowrap; max-width: 500px; overflow: hidden; text-overflow: ellipsis; \">20:65900</td><td style=\"white-space: nowrap; max-width: 500px; overflow: hidden; text-overflow: ellipsis; \">[&quot;G&quot;,&quot;A&quot;]</td><td style=\"white-space: nowrap; max-width: 500px; overflow: hidden; text-overflow: ellipsis; \">1/1</td><td style=\"white-space: nowrap; max-width: 500px; overflow: hidden; text-overflow: ellipsis; \">1/1</td><td style=\"white-space: nowrap; max-width: 500px; overflow: hidden; text-overflow: ellipsis; \">1/1</td></tr>\n",
       "<tr><td style=\"white-space: nowrap; max-width: 500px; overflow: hidden; text-overflow: ellipsis; \">20:66370</td><td style=\"white-space: nowrap; max-width: 500px; overflow: hidden; text-overflow: ellipsis; \">[&quot;G&quot;,&quot;A&quot;]</td><td style=\"white-space: nowrap; max-width: 500px; overflow: hidden; text-overflow: ellipsis; \">1/1</td><td style=\"white-space: nowrap; max-width: 500px; overflow: hidden; text-overflow: ellipsis; \">1/1</td><td style=\"white-space: nowrap; max-width: 500px; overflow: hidden; text-overflow: ellipsis; \">1/1</td></tr>\n",
       "<tr><td style=\"white-space: nowrap; max-width: 500px; overflow: hidden; text-overflow: ellipsis; \">20:67500</td><td style=\"white-space: nowrap; max-width: 500px; overflow: hidden; text-overflow: ellipsis; \">[&quot;T&quot;,&quot;TTGGTATCTAG&quot;]</td><td style=\"white-space: nowrap; max-width: 500px; overflow: hidden; text-overflow: ellipsis; \">1/1</td><td style=\"white-space: nowrap; max-width: 500px; overflow: hidden; text-overflow: ellipsis; \">1/1</td><td style=\"white-space: nowrap; max-width: 500px; overflow: hidden; text-overflow: ellipsis; \">1/1</td></tr>\n",
       "<tr><td style=\"white-space: nowrap; max-width: 500px; overflow: hidden; text-overflow: ellipsis; \">20:68749</td><td style=\"white-space: nowrap; max-width: 500px; overflow: hidden; text-overflow: ellipsis; \">[&quot;T&quot;,&quot;C&quot;]</td><td style=\"white-space: nowrap; max-width: 500px; overflow: hidden; text-overflow: ellipsis; \">0/1</td><td style=\"white-space: nowrap; max-width: 500px; overflow: hidden; text-overflow: ellipsis; \">0/1</td><td style=\"white-space: nowrap; max-width: 500px; overflow: hidden; text-overflow: ellipsis; \">1/1</td></tr>\n",
       "<tr><td style=\"white-space: nowrap; max-width: 500px; overflow: hidden; text-overflow: ellipsis; \">20:80655</td><td style=\"white-space: nowrap; max-width: 500px; overflow: hidden; text-overflow: ellipsis; \">[&quot;A&quot;,&quot;G&quot;]</td><td style=\"white-space: nowrap; max-width: 500px; overflow: hidden; text-overflow: ellipsis; \">1/1</td><td style=\"white-space: nowrap; max-width: 500px; overflow: hidden; text-overflow: ellipsis; \">1/1</td><td style=\"white-space: nowrap; max-width: 500px; overflow: hidden; text-overflow: ellipsis; \">1/1</td></tr>\n",
       "<tr><td style=\"white-space: nowrap; max-width: 500px; overflow: hidden; text-overflow: ellipsis; \">20:106703</td><td style=\"white-space: nowrap; max-width: 500px; overflow: hidden; text-overflow: ellipsis; \">[&quot;C&quot;,&quot;CT&quot;,&quot;CTTT&quot;]</td><td style=\"white-space: nowrap; max-width: 500px; overflow: hidden; text-overflow: ellipsis; \">0/1</td><td style=\"white-space: nowrap; max-width: 500px; overflow: hidden; text-overflow: ellipsis; \">1/2</td><td style=\"white-space: nowrap; max-width: 500px; overflow: hidden; text-overflow: ellipsis; \">1/1</td></tr>\n",
       "<tr><td style=\"white-space: nowrap; max-width: 500px; overflow: hidden; text-overflow: ellipsis; \">20:114916</td><td style=\"white-space: nowrap; max-width: 500px; overflow: hidden; text-overflow: ellipsis; \">[&quot;G&quot;,&quot;A&quot;]</td><td style=\"white-space: nowrap; max-width: 500px; overflow: hidden; text-overflow: ellipsis; \">0/0</td><td style=\"white-space: nowrap; max-width: 500px; overflow: hidden; text-overflow: ellipsis; \">0/0</td><td style=\"white-space: nowrap; max-width: 500px; overflow: hidden; text-overflow: ellipsis; \">1/1</td></tr>\n",
       "<tr><td style=\"white-space: nowrap; max-width: 500px; overflow: hidden; text-overflow: ellipsis; \">20:127952</td><td style=\"white-space: nowrap; max-width: 500px; overflow: hidden; text-overflow: ellipsis; \">[&quot;C&quot;,&quot;T&quot;]</td><td style=\"white-space: nowrap; max-width: 500px; overflow: hidden; text-overflow: ellipsis; \">0/1</td><td style=\"white-space: nowrap; max-width: 500px; overflow: hidden; text-overflow: ellipsis; \">0/1</td><td style=\"white-space: nowrap; max-width: 500px; overflow: hidden; text-overflow: ellipsis; \">1/1</td></tr>\n",
       "<tr><td style=\"white-space: nowrap; max-width: 500px; overflow: hidden; text-overflow: ellipsis; \">20:128863</td><td style=\"white-space: nowrap; max-width: 500px; overflow: hidden; text-overflow: ellipsis; \">[&quot;G&quot;,&quot;C&quot;]</td><td style=\"white-space: nowrap; max-width: 500px; overflow: hidden; text-overflow: ellipsis; \">0/1</td><td style=\"white-space: nowrap; max-width: 500px; overflow: hidden; text-overflow: ellipsis; \">0/1</td><td style=\"white-space: nowrap; max-width: 500px; overflow: hidden; text-overflow: ellipsis; \">1/1</td></tr>\n",
       "<tr><td style=\"white-space: nowrap; max-width: 500px; overflow: hidden; text-overflow: ellipsis; \">20:129063</td><td style=\"white-space: nowrap; max-width: 500px; overflow: hidden; text-overflow: ellipsis; \">[&quot;A&quot;,&quot;G&quot;]</td><td style=\"white-space: nowrap; max-width: 500px; overflow: hidden; text-overflow: ellipsis; \">0/1</td><td style=\"white-space: nowrap; max-width: 500px; overflow: hidden; text-overflow: ellipsis; \">0/1</td><td style=\"white-space: nowrap; max-width: 500px; overflow: hidden; text-overflow: ellipsis; \">1/1</td></tr>\n",
       "</tbody></table><p style=\"background: #fdd; padding: 0.4em;\">showing top 10 rows</p>\n"
      ],
      "text/plain": [
       "+---------------+---------------------+--------------+--------------+\n",
       "| locus         | alleles             | 'HG00731'.GT | 'HG00732'.GT |\n",
       "+---------------+---------------------+--------------+--------------+\n",
       "| locus<GRCh37> | array<str>          | call         | call         |\n",
       "+---------------+---------------------+--------------+--------------+\n",
       "| 20:65900      | [\"G\",\"A\"]           | 1/1          | 1/1          |\n",
       "| 20:66370      | [\"G\",\"A\"]           | 1/1          | 1/1          |\n",
       "| 20:67500      | [\"T\",\"TTGGTATCTAG\"] | 1/1          | 1/1          |\n",
       "| 20:68749      | [\"T\",\"C\"]           | 0/1          | 0/1          |\n",
       "| 20:80655      | [\"A\",\"G\"]           | 1/1          | 1/1          |\n",
       "| 20:106703     | [\"C\",\"CT\",\"CTTT\"]   | 0/1          | 1/2          |\n",
       "| 20:114916     | [\"G\",\"A\"]           | 0/0          | 0/0          |\n",
       "| 20:127952     | [\"C\",\"T\"]           | 0/1          | 0/1          |\n",
       "| 20:128863     | [\"G\",\"C\"]           | 0/1          | 0/1          |\n",
       "| 20:129063     | [\"A\",\"G\"]           | 0/1          | 0/1          |\n",
       "+---------------+---------------------+--------------+--------------+\n",
       "\n",
       "+--------------+\n",
       "| 'HG00733'.GT |\n",
       "+--------------+\n",
       "| call         |\n",
       "+--------------+\n",
       "| 1/1          |\n",
       "| 1/1          |\n",
       "| 1/1          |\n",
       "| 1/1          |\n",
       "| 1/1          |\n",
       "| 1/1          |\n",
       "| 1/1          |\n",
       "| 1/1          |\n",
       "| 1/1          |\n",
       "| 1/1          |\n",
       "+--------------+\n",
       "showing top 10 rows"
      ]
     },
     "metadata": {},
     "output_type": "display_data"
    },
    {
     "name": "stdout",
     "output_type": "stream",
     "text": [
      "Percentage of total: 27.36%\n"
     ]
    }
   ],
   "source": [
    "\n",
    "child_hom_var = mt.filter_rows((hl.agg.collect(mt.GT.is_hom_var())[2]==True) == True)\n",
    "\n",
    "child_hom_var.GT.show()\n",
    "print(f\"Percentage of total: {round(child_hom_var.count()[0]/mt.count()[0] * 100, 2)}%\")"
   ]
  }
 ],
 "metadata": {
  "kernelspec": {
   "display_name": "gatk_to_hail_pipeline_example",
   "language": "python",
   "name": "gatk_to_hail_pipeline_example"
  },
  "language_info": {
   "codemirror_mode": {
    "name": "ipython",
    "version": 3
   },
   "file_extension": ".py",
   "mimetype": "text/x-python",
   "name": "python",
   "nbconvert_exporter": "python",
   "pygments_lexer": "ipython3",
   "version": "3.7.12"
  }
 },
 "nbformat": 4,
 "nbformat_minor": 4
}
